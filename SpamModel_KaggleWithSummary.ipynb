{
 "cells": [
  {
   "cell_type": "code",
   "execution_count": 58,
   "metadata": {},
   "outputs": [],
   "source": [
    "import numpy as np\n",
    "import matplotlib.pyplot as plt\n",
    "import torch\n",
    "import torch.nn as nn  # All neural network modules, nn.Linear, nn.Conv2d, BatchNorm, Loss functions\n",
    "import torch.optim as optim  # For all Optimization algorithms, SGD, Adam, etc.\n",
    "import torch.nn.functional as F  # All functions that don't have any parameters\n",
    "from torch.utils.data import (DataLoader,)  # Gives easier dataset managment and creates mini batches\n",
    "#import torchvision  # torch package for vision related things\n",
    "#import torchvision.datasets as datasets  # Has standard datasets we can import in a nice way\n",
    "#import torchvision.transforms as transforms\n",
    "import pandas as pd\n",
    "import random\n",
    "from sklearn.metrics import confusion_matrix, classification_report\n",
    "from sklearn.metrics import accuracy_score, precision_score, recall_score, f1_score, make_scorer\n",
    "from sklearn.model_selection import RandomizedSearchCV\n",
    "from tqdm.auto import tqdm\n",
    "from transformers import DistilBertTokenizer"
   ]
  },
  {
   "cell_type": "markdown",
   "metadata": {},
   "source": [
    "# Data Loading\n",
    "Grabbing the combined dataset and including the summary "
   ]
  },
  {
   "cell_type": "code",
   "execution_count": 59,
   "metadata": {},
   "outputs": [],
   "source": [
    "# Split the downloaded Youtube01-Psy.csv file into train, validation and test sets\n",
    "data = pd.read_csv('SpamDataset/Youtube05-Combined.csv')\n",
    "# data = pd.read_csv('TSwift_ShakeItOff_Spam.csv')\n",
    "data = data.sample(frac=1).reset_index(drop=True)  # Shuffle the data\n",
    "train_data = data[:int(0.7*len(data))]\n",
    "val_data = data[int(0.7*len(data)):int(0.85*len(data))]\n",
    "test_data = data[int(0.85*len(data)):]\n",
    "\n",
    "# Tokenize the data using distillbert\n",
    "tokenizer = DistilBertTokenizer.from_pretrained('distilbert-base-uncased')\n",
    "\n",
    "# Turn pd dataframe into a tokenized PyTorch dataset that DataLoader can use via the SpamDataset class\n",
    "class CommentSummaryDataset(torch.utils.data.Dataset):\n",
    "    def __init__(self, data):\n",
    "        self.data = data\n",
    "\n",
    "    def __len__(self):\n",
    "        return len(self.data)\n",
    "\n",
    "    def __getitem__(self, idx):\n",
    "        row = self.data.iloc[idx]\n",
    "\n",
    "        comment_tokens = row['CONTENT'] + ' ' + row['SUMMARY']\n",
    "        label = row['CLASS']\n",
    "        return comment_tokens, label\n",
    "    \n",
    "    def collate_fn(self, batch):\n",
    "        comments = [row[0] for row in batch]\n",
    "        labels = [row[1] for row in batch]\n",
    "        tokens = tokenizer.batch_encode_plus(comments, truncation=True, padding='max_length', max_length=100, return_tensors='pt')\n",
    "        return tokens,  torch.tensor(labels)\n",
    "    \n",
    "class SummaryCommentDataset(torch.utils.data.Dataset):\n",
    "    def __init__(self, data):\n",
    "        self.data = data\n",
    "\n",
    "    def __len__(self):\n",
    "        return len(self.data)\n",
    "\n",
    "    def __getitem__(self, idx):\n",
    "        row = self.data.iloc[idx]\n",
    "        comment_tokens = row['SUMMARY'] + ' ' + row['CONTENT'] \n",
    "        label = row['CLASS']\n",
    "        return comment_tokens, label\n",
    "    \n",
    "    def collate_fn(self, batch):\n",
    "        comments = [row[0] for row in batch]\n",
    "        labels = [row[1] for row in batch]\n",
    "        tokens = tokenizer.batch_encode_plus(comments, truncation=True, padding='max_length', max_length=100, return_tensors='pt')\n",
    "        return tokens,  torch.tensor(labels)\n",
    "    \n",
    "fw_train_dataset = CommentSummaryDataset(train_data)\n",
    "fw_val_dataset = CommentSummaryDataset(val_data)\n",
    "fw_test_dataset = CommentSummaryDataset(test_data)\n",
    "\n",
    "bw_train_dataset = SummaryCommentDataset(train_data)\n",
    "bw_val_dataset = SummaryCommentDataset(val_data)\n",
    "bw_test_dataset = SummaryCommentDataset(test_data)\n",
    "\n",
    "\n",
    "# Load Data and collate it\n",
    "batch_size = 64\n",
    "fw_train_loader = DataLoader(fw_train_dataset, batch_size=batch_size, shuffle=True, collate_fn=fw_train_dataset.collate_fn)\n",
    "fw_val_loader = DataLoader(fw_val_dataset, batch_size=batch_size, shuffle=True, collate_fn=fw_val_dataset.collate_fn)\n",
    "fw_test_loader = DataLoader(fw_test_dataset, batch_size=batch_size, shuffle=True, collate_fn=fw_test_dataset.collate_fn)\n",
    "\n",
    "bw_train_loader = DataLoader(bw_train_dataset, batch_size=batch_size, shuffle=True, collate_fn=bw_train_dataset.collate_fn)\n",
    "bw_val_loader = DataLoader(bw_val_dataset, batch_size=batch_size, shuffle=True, collate_fn=bw_val_dataset.collate_fn)\n",
    "bw_test_loader = DataLoader(bw_test_dataset, batch_size=batch_size, shuffle=True, collate_fn=bw_test_dataset.collate_fn)"
   ]
  },
  {
   "cell_type": "code",
   "execution_count": 60,
   "metadata": {},
   "outputs": [
    {
     "name": "stdout",
     "output_type": "stream",
     "text": [
      "({'input_ids': tensor([[  101,  4638,  2041,  ...,     0,     0,     0],\n",
      "        [  101,  3006, 23296,  ...,     0,     0,     0],\n",
      "        [  101,  4931,  2065,  ..., 12495, 25832,   102],\n",
      "        ...,\n",
      "        [  101,  2298,  2012,  ...,     0,     0,     0],\n",
      "        [  101,  1048,  2213,  ...,  6454,  1997,   102],\n",
      "        [  101,  7632,  4364,  ..., 21864, 15952,   102]]), 'attention_mask': tensor([[1, 1, 1,  ..., 0, 0, 0],\n",
      "        [1, 1, 1,  ..., 0, 0, 0],\n",
      "        [1, 1, 1,  ..., 1, 1, 1],\n",
      "        ...,\n",
      "        [1, 1, 1,  ..., 0, 0, 0],\n",
      "        [1, 1, 1,  ..., 1, 1, 1],\n",
      "        [1, 1, 1,  ..., 1, 1, 1]])}, tensor([1, 1, 1, 1, 0, 0, 0, 1, 0, 0, 1, 1, 0, 0, 1, 1, 1, 0, 1, 1, 0, 0, 1, 1,\n",
      "        0, 1, 0, 1, 0, 1, 0, 0, 1, 1, 0, 1, 1, 1, 1, 1, 0, 0, 0, 0, 0, 0, 1, 0,\n",
      "        0, 0, 0, 0, 1, 1, 0, 1, 1, 0, 1, 1, 0, 1, 1, 1]))\n",
      "[CLS] check out this playlist on youtube : lmfao's \" party rock anthem \" is a high - energy dance anthem that dominated clubs and airwaves worldwide. the music video features the duo and their crew dancing through a post - apocalyptic world, spreading their infectious party spirit. with its catchy beat and memorable choreography, it became a symbol of carefree celebration. [SEP] [PAD] [PAD] [PAD] [PAD] [PAD] [PAD] [PAD] [PAD] [PAD] [PAD] [PAD] [PAD] [PAD] [PAD] [PAD] [PAD] [PAD] [PAD] [PAD] [PAD] [PAD] [PAD]\n",
      "({'input_ids': tensor([[  101, 17870,  6890,  ...,     0,     0,     0],\n",
      "        [  101, 21146, 23630,  ...,  1011,  1011,   102],\n",
      "        [  101,  1048,  2213,  ...,     0,     0,     0],\n",
      "        ...,\n",
      "        [  101,  8827,  2100,  ...,  8840,  2140,   102],\n",
      "        [  101,  1048,  2213,  ...,     0,     0,     0],\n",
      "        [  101,  1048,  2213,  ...,     0,     0,     0]]), 'attention_mask': tensor([[1, 1, 1,  ..., 0, 0, 0],\n",
      "        [1, 1, 1,  ..., 1, 1, 1],\n",
      "        [1, 1, 1,  ..., 0, 0, 0],\n",
      "        ...,\n",
      "        [1, 1, 1,  ..., 1, 1, 1],\n",
      "        [1, 1, 1,  ..., 0, 0, 0],\n",
      "        [1, 1, 1,  ..., 0, 0, 0]])}, tensor([1, 1, 0, 0, 0, 0, 0, 1, 0, 0, 1, 0, 1, 1, 0, 1, 0, 0, 0, 1, 0, 1, 1, 0,\n",
      "        1, 1, 1, 1, 0, 1, 1, 1, 1, 0, 0, 0, 0, 0, 0, 0, 1, 0, 1, 0, 1, 0, 0, 0,\n",
      "        0, 0, 0, 1, 0, 0, 1, 0, 1, 0, 0, 0, 1, 0, 1, 1]))\n",
      "[CLS] katy perry's \" roar \" empowers with its anthemic chorus and vibrant visuals. the music video depicts perry surviving a jungle plane crash, transforming into a jungle queen who finds her strength. with its message of resilience and self - empowerment, \" roar \" resonated globally, becoming one of perry's most iconic hits. http : / / www. twitch. tv / daconnormc [SEP] [PAD] [PAD] [PAD] [PAD] [PAD] [PAD] [PAD] [PAD] [PAD] [PAD] [PAD] [PAD] [PAD] [PAD]\n"
     ]
    }
   ],
   "source": [
    "# Print a random sample from the train_loader to confirm correct loading and tokenization\n",
    "sample = next(iter(fw_train_loader))\n",
    "print(sample)\n",
    "# Print decoded tokens for the sample\n",
    "decoded = tokenizer.decode(sample[0]['input_ids'][0])\n",
    "print(decoded)\n",
    "\n",
    "sample = next(iter(bw_train_loader))\n",
    "print(sample)\n",
    "# Print decoded tokens for the sample\n",
    "decoded = tokenizer.decode(sample[0]['input_ids'][0])\n",
    "print(decoded)"
   ]
  },
  {
   "cell_type": "markdown",
   "metadata": {},
   "source": [
    "# Model\n",
    "- Model 1 - include Like count\n",
    "- Model 2 - include LLM evaluation of the video "
   ]
  },
  {
   "cell_type": "code",
   "execution_count": 61,
   "metadata": {},
   "outputs": [],
   "source": [
    "## The network includes an Embedding layer, an Attention layer, an LSTM layer and a Linear layer\n",
    "class CombinedLSTM(nn.Module):\n",
    "    def __init__(self, embedding_dict, embedding_size, hidden_size, num_layers, num_classes, dropout):\n",
    "        super(CombinedLSTM, self).__init__()\n",
    "        self.hidden_size = hidden_size\n",
    "        self.num_layers = num_layers\n",
    "        self.embedding = nn.Embedding(embedding_dict, embedding_size)\n",
    "        self.dropout = nn.Dropout(dropout)\n",
    "        self.lstm = nn.LSTM(embedding_size, hidden_size, num_layers, batch_first=True, dropout=dropout)\n",
    "        self.attention = nn.Linear(hidden_size, 1)\n",
    "        self.fc = nn.Linear(hidden_size, num_classes)\n",
    "        \n",
    "    def forward(self, comment_sequence):\n",
    "        # comment_sequence: (batch_size, max_seq_length)\n",
    "        embedding = self.dropout(self.embedding(comment_sequence))\n",
    "        # embedding shape: (batch_size, max_seq_length, embedding_size)\n",
    "        output, (h_n, c_n) = self.lstm(embedding)\n",
    "        # output shape: (batch_size, max_seq_length, hidden_size)\n",
    "        # h_n shape: (num_layers, batch_size, hidden_size)\n",
    "        attention_weights = F.softmax(self.attention(output), dim=1)\n",
    "        # attention_weights shape: (batch_size, max_seq_length, 1)\n",
    "        out = torch.sum(attention_weights * output, dim=1)\n",
    "        # out shape: (batch_size, hidden_size)\n",
    "        out = self.fc(out)\n",
    "        # out shape: (batch_size, num_classes)\n",
    "        return out"
   ]
  },
  {
   "cell_type": "markdown",
   "metadata": {},
   "source": [
    "# Utility Functions to run validation"
   ]
  },
  {
   "cell_type": "code",
   "execution_count": 62,
   "metadata": {},
   "outputs": [],
   "source": [
    "# Validation\n",
    "def check_accuracy(loader, model):\n",
    "    num_correct = 0\n",
    "    num_samples = 0\n",
    "    predictions = []\n",
    "    targets = []\n",
    "    model.eval()\n",
    "\n",
    "    with torch.no_grad():\n",
    "        for comments, target in loader:\n",
    "            comments = {key: value.to(device) for key, value in comments.items()}\n",
    "            target = target.to(device)\n",
    "\n",
    "            scores = model(comments['input_ids'])\n",
    "            _, predicted = scores.max(1)\n",
    "            # Store decoded original comments, model predictions and actual labels \n",
    "            num_correct += (predicted == target).sum()\n",
    "            num_samples += predicted.size(0)\n",
    "\n",
    "            predictions.extend(predicted.tolist())\n",
    "            targets.extend(target.tolist())\n",
    "\n",
    "    # model.train()\n",
    "    accuracy = num_correct/num_samples\n",
    "    return accuracy, predictions, targets\n",
    "\n",
    "def results(model, train_loader, val_loader, test_loader,):\n",
    "    train_acc, train_preds, train_targets = check_accuracy(train_loader, model)\n",
    "    val_acc, val_preds, val_targets = check_accuracy(val_loader, model)\n",
    "    test_acc, test_preds, test_targets = check_accuracy(test_loader, model)\n",
    "\n",
    "    print(f'Train accuracy: {train_acc}')\n",
    "    print(f'Validation accuracy: {val_acc}')\n",
    "    print(f'Test accuracy: {test_acc}')\n",
    "\n",
    "    train_cm = confusion_matrix(train_targets, train_preds)\n",
    "    val_cm = confusion_matrix(val_targets, val_preds)\n",
    "    test_cm = confusion_matrix(test_targets, test_preds)\n",
    "\n",
    "    print(f'Train Confusion Matrix:\\n{train_cm}')\n",
    "    print(f'Validation Confusion Matrix:\\n{val_cm}')\n",
    "    print(f'Test Confusion Matrix:\\n{test_cm}')\n",
    "\n",
    "    # Classification report\n",
    "    train_report = classification_report(train_targets, train_preds)\n",
    "    val_report = classification_report(val_targets, val_preds)\n",
    "    test_report = classification_report(test_targets, test_preds)\n",
    "\n",
    "    print(f'Train Classification Report:\\n{train_report}')\n",
    "    print(f'Validation Classification Report:\\n{val_report}')\n",
    "    print(f'Test Classification Report:\\n{test_report}')"
   ]
  },
  {
   "cell_type": "markdown",
   "metadata": {},
   "source": [
    "# Training"
   ]
  },
  {
   "cell_type": "code",
   "execution_count": 64,
   "metadata": {},
   "outputs": [
    {
     "data": {
      "application/vnd.jupyter.widget-view+json": {
       "model_id": "06a13b8c4036446a940d25b9a4134ebc",
       "version_major": 2,
       "version_minor": 0
      },
      "text/plain": [
       "  0%|          | 0/22 [00:00<?, ?it/s]"
      ]
     },
     "metadata": {},
     "output_type": "display_data"
    },
    {
     "name": "stdout",
     "output_type": "stream",
     "text": [
      "Epoch 1/20, Loss: 0.5399945974349976\n"
     ]
    },
    {
     "data": {
      "application/vnd.jupyter.widget-view+json": {
       "model_id": "8234b7acfd30417da57d26d0d2f69128",
       "version_major": 2,
       "version_minor": 0
      },
      "text/plain": [
       "  0%|          | 0/22 [00:00<?, ?it/s]"
      ]
     },
     "metadata": {},
     "output_type": "display_data"
    }
   ],
   "source": [
    "device = torch.device(\"cuda\" if torch.cuda.is_available() else \"cpu\")\n",
    "criterion = nn.CrossEntropyLoss()\n",
    "# Set the hyperparameters for all the models     # TODO: analyze these by model\n",
    "embedding_dict = tokenizer.vocab_size\n",
    "embedding_size = 128\n",
    "hidden_size = 256\n",
    "num_layers = 4\n",
    "num_classes = 2\n",
    "dropout = 0.4\n",
    "learning_rate = 0.0007\n",
    "num_epochs = 20\n",
    "\n",
    "# Train the forwards model\n",
    "# Initialize the model, loss function and optimizer\n",
    "modelFW = CombinedLSTM(embedding_dict, embedding_size, hidden_size, num_layers, num_classes, dropout).to(device)\n",
    "optimizer = optim.Adam(modelFW.parameters(), lr=learning_rate)\n",
    "\n",
    "for epoch in range(num_epochs):\n",
    "    modelFW.train()\n",
    "    for batch in tqdm(fw_train_loader):\n",
    "        tokens, labels = batch\n",
    "        comment_sequence = tokens['input_ids'].to(device)\n",
    "        labels = labels.to(device)\n",
    "        outputs = modelFW(comment_sequence)\n",
    "        loss = criterion(outputs, labels)\n",
    "        optimizer.zero_grad()\n",
    "        loss.backward()\n",
    "        optimizer.step()\n",
    "    print(f'Epoch {epoch+1}/{num_epochs}, Loss: {loss.item()}')\n",
    "\n",
    "# Print the results of the forwards model\n",
    "results(modelFW, fw_train_loader, fw_val_loader, fw_test_loader)\n",
    "\n",
    "# Train the backwards model\n",
    "# Initialize the model, loss function and optimizer\n",
    "modelBW = CombinedLSTM(embedding_dict, embedding_size, hidden_size, num_layers, num_classes, dropout).to(device)\n",
    "optimizer = optim.Adam(modelBW.parameters(), lr=learning_rate)\n",
    "\n",
    "for epoch in range(num_epochs):\n",
    "    modelBW.train()\n",
    "    for batch in tqdm(bw_train_loader):\n",
    "        tokens, labels = batch\n",
    "        comment_sequence = tokens['input_ids'].to(device)\n",
    "        labels = labels.to(device)\n",
    "        outputs = modelBW(comment_sequence)\n",
    "        loss = criterion(outputs, labels)\n",
    "        optimizer.zero_grad()\n",
    "        loss.backward()\n",
    "        optimizer.step()\n",
    "    print(f'Epoch {epoch+1}/{num_epochs}, Loss: {loss.item()}')\n",
    "\n",
    "# Print the results of the backwards model\n",
    "results(modelBW, bw_train_loader, bw_val_loader, bw_test_loader)\n",
    "\n",
    "\n"
   ]
  },
  {
   "cell_type": "code",
   "execution_count": null,
   "metadata": {},
   "outputs": [],
   "source": []
  }
 ],
 "metadata": {
  "kernelspec": {
   "display_name": "base",
   "language": "python",
   "name": "python3"
  },
  "language_info": {
   "codemirror_mode": {
    "name": "ipython",
    "version": 3
   },
   "file_extension": ".py",
   "mimetype": "text/x-python",
   "name": "python",
   "nbconvert_exporter": "python",
   "pygments_lexer": "ipython3",
   "version": "3.11.7"
  }
 },
 "nbformat": 4,
 "nbformat_minor": 2
}
