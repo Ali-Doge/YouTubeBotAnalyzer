{
 "cells": [
  {
   "cell_type": "code",
   "execution_count": 3,
   "metadata": {},
   "outputs": [],
   "source": [
    "import numpy as np\n",
    "import matplotlib.pyplot as plt\n",
    "import torch\n",
    "import torch.nn as nn  # All neural network modules, nn.Linear, nn.Conv2d, BatchNorm, Loss functions\n",
    "import torch.optim as optim  # For all Optimization algorithms, SGD, Adam, etc.\n",
    "import torch.nn.functional as F  # All functions that don't have any parameters\n",
    "from torch.utils.data import (DataLoader,)  # Gives easier dataset managment and creates mini batches\n",
    "#import torchvision  # torch package for vision related things\n",
    "#import torchvision.datasets as datasets  # Has standard datasets we can import in a nice way\n",
    "#import torchvision.transforms as transforms\n",
    "import pandas as pd\n",
    "import random\n",
    "from sklearn.metrics import confusion_matrix, classification_report\n",
    "from sklearn.metrics import accuracy_score, precision_score, recall_score, f1_score, make_scorer\n",
    "from sklearn.model_selection import RandomizedSearchCV\n",
    "from tqdm.auto import tqdm\n",
    "from transformers import DistilBertTokenizer"
   ]
  },
  {
   "cell_type": "markdown",
   "metadata": {},
   "source": [
    "# Data Loading\n",
    "Grabbing the dataset with the like count included"
   ]
  },
  {
   "cell_type": "code",
   "execution_count": 4,
   "metadata": {},
   "outputs": [],
   "source": [
    "# Split the downloaded Youtube01-Psy.csv file into train, validation and test sets\n",
    "data = pd.read_csv('SpamDataset/TSwift_ShakeItOff_Spam.csv')\n",
    "# data = pd.read_csv('TSwift_ShakeItOff_Spam.csv')\n",
    "data = data.sample(frac=1).reset_index(drop=True)  # Shuffle the data\n",
    "train_data = data[:int(0.7*len(data))]\n",
    "val_data = data[int(0.7*len(data)):int(0.85*len(data))]\n",
    "test_data = data[int(0.85*len(data)):]\n",
    "\n",
    "# Tokenize the data using distillbert\n",
    "tokenizer = DistilBertTokenizer.from_pretrained('distilbert-base-uncased')\n",
    "\n",
    "# Turn pd dataframe into a tokenized PyTorch dataset that DataLoader can use via the SpamDataset class\n",
    "class SpamDataset(torch.utils.data.Dataset):\n",
    "    def __init__(self, data):\n",
    "        self.data = data\n",
    "\n",
    "    def __len__(self):\n",
    "        return len(self.data)\n",
    "\n",
    "    def __getitem__(self, idx):\n",
    "        row = self.data.iloc[idx]\n",
    "        comment_tokens = row['CONTENT']\n",
    "        like_count = row['LIKE_COUNT']\n",
    "        label = row['CLASS']\n",
    "        return comment_tokens, like_count, label\n",
    "    \n",
    "    def collate_fn(self, batch):\n",
    "        comments = [row[0] for row in batch]\n",
    "        like_counts = [row[1] for row in batch]\n",
    "        labels = [row[2] for row in batch]\n",
    "        tokens = tokenizer.batch_encode_plus(comments, truncation=True, padding='max_length', max_length=30, return_tensors='pt')\n",
    "        return tokens, torch.tensor(like_counts), torch.tensor(labels)\n",
    "    \n",
    "train_dataset = SpamDataset(train_data)\n",
    "val_dataset = SpamDataset(val_data)\n",
    "test_dataset = SpamDataset(test_data)\n",
    "\n",
    "\n",
    "# Load Data and collate it\n",
    "batch_size = 64\n",
    "train_loader = DataLoader(train_dataset, batch_size=batch_size, shuffle=True, collate_fn=train_dataset.collate_fn)\n",
    "val_loader = DataLoader(val_dataset, batch_size=batch_size, shuffle=False, collate_fn=val_dataset.collate_fn)\n",
    "test_loader = DataLoader(test_dataset, batch_size=batch_size, shuffle=False, collate_fn=test_dataset.collate_fn)"
   ]
  },
  {
   "cell_type": "code",
   "execution_count": 5,
   "metadata": {},
   "outputs": [
    {
     "name": "stdout",
     "output_type": "stream",
     "text": [
      "({'input_ids': tensor([[  101,  1026,  1038,  ...,  5009,  1024,   102],\n",
      "        [  101,  7308,  4965,  ..., 18743,  4604,   102],\n",
      "        [  101,  1026,  1038,  ...,  1049,  1026,   102],\n",
      "        ...,\n",
      "        [  101,  2111,  2008,  ...,     0,     0,     0],\n",
      "        [  101, 10166,  1012,  ...,  2003,  3154,   102],\n",
      "        [  101,  2023,  2001,  ...,     0,     0,     0]]), 'attention_mask': tensor([[1, 1, 1,  ..., 1, 1, 1],\n",
      "        [1, 1, 1,  ..., 1, 1, 1],\n",
      "        [1, 1, 1,  ..., 1, 1, 1],\n",
      "        ...,\n",
      "        [1, 1, 1,  ..., 0, 0, 0],\n",
      "        [1, 1, 1,  ..., 1, 1, 1],\n",
      "        [1, 1, 1,  ..., 0, 0, 0]])}, tensor([  1,   0,   6,   0,   1,   0,   6,   1,   0,   2,   0,   2,   0,   0,\n",
      "          0,   1,   0,   1,   0,   2,   1,   0,   4,  31,   1,   2,   0,   0,\n",
      "          0,   0,   3,   7,   0,   1,   0,   2,   0,   2,   5,   1,   0,   1,\n",
      "          0,   0,   1,   1,  45,   3,   0,   8,   0,   0,   1,   0,   0,  11,\n",
      "          1,   0,   1, 365,   1,   1,   1,   5]), tensor([1, 1, 1, 0, 0, 0, 0, 0, 0, 0, 0, 0, 0, 0, 0, 0, 0, 0, 0, 1, 0, 0, 1, 1,\n",
      "        0, 0, 0, 0, 0, 0, 1, 0, 0, 1, 0, 0, 0, 0, 0, 0, 0, 0, 1, 0, 0, 1, 1, 1,\n",
      "        1, 0, 0, 0, 0, 0, 0, 1, 0, 0, 0, 0, 0, 0, 0, 0]))\n"
     ]
    }
   ],
   "source": [
    "# Print a random sample from the train_loader to confirm correct loading and tokenization\n",
    "sample = next(iter(train_loader))\n",
    "print(sample)"
   ]
  },
  {
   "cell_type": "markdown",
   "metadata": {},
   "source": [
    "# Model\n",
    "- Model 1 - include Like count\n",
    "- Model 2 - include LLM evaluation of the video "
   ]
  },
  {
   "cell_type": "code",
   "execution_count": 22,
   "metadata": {},
   "outputs": [],
   "source": [
    "## The network includes an Embedding layer, an Attention layer, an LSTM layer and a Linear layer\n",
    "class CombinedLSTM(nn.Module):\n",
    "    def __init__(self, embedding_dict, embedding_size, hidden_size, num_layers, num_classes, dropout):\n",
    "        super(CombinedLSTM, self).__init__()\n",
    "        self.hidden_size = hidden_size\n",
    "        self.num_layers = num_layers\n",
    "        self.embedding = nn.Embedding(embedding_dict, embedding_size)\n",
    "        self.dropout = nn.Dropout(dropout)\n",
    "        self.lstm = nn.LSTM(embedding_size, hidden_size, num_layers, batch_first=True, dropout=dropout)\n",
    "        self.attention = nn.Linear(hidden_size, 1)\n",
    "        self.fc = nn.Linear(hidden_size + 1, num_classes) # +1 for like count\n",
    "        \n",
    "    def forward(self, comment_sequence, like_count):\n",
    "        # comment_sequence: (batch_size, max_seq_length)\n",
    "        embedding = self.dropout(self.embedding(comment_sequence))\n",
    "        # embedding shape: (batch_size, max_seq_length, embedding_size)\n",
    "        output, (h_n, c_n) = self.lstm(embedding)\n",
    "        # output shape: (batch_size, max_seq_length, hidden_size)\n",
    "        # h_n shape: (num_layers, batch_size, hidden_size)\n",
    "        attention_weights = F.softmax(self.attention(output), dim=1)\n",
    "        # attention_weights shape: (batch_size, max_seq_length, 1)\n",
    "        out = torch.sum(attention_weights * output, dim=1)\n",
    "        # out shape: (batch_size, hidden_size)\n",
    "        out = torch.cat((out, like_count.unsqueeze(1)), 1)\n",
    "        # out shape: (batch_size, hidden_size + 1)\n",
    "        out = self.fc(out)\n",
    "        # out shape: (batch_size, num_classes)\n",
    "        return out"
   ]
  },
  {
   "cell_type": "markdown",
   "metadata": {},
   "source": [
    "# Training"
   ]
  },
  {
   "cell_type": "code",
   "execution_count": 30,
   "metadata": {},
   "outputs": [
    {
     "data": {
      "application/vnd.jupyter.widget-view+json": {
       "model_id": "65529682091e4a16b987b6962dfefb94",
       "version_major": 2,
       "version_minor": 0
      },
      "text/plain": [
       "  0%|          | 0/6 [00:00<?, ?it/s]"
      ]
     },
     "metadata": {},
     "output_type": "display_data"
    },
    {
     "name": "stdout",
     "output_type": "stream",
     "text": [
      "Epoch 1/10, Loss: 0.5890170931816101\n"
     ]
    },
    {
     "data": {
      "application/vnd.jupyter.widget-view+json": {
       "model_id": "09d3f4a09816472a861b5ceab48be691",
       "version_major": 2,
       "version_minor": 0
      },
      "text/plain": [
       "  0%|          | 0/6 [00:00<?, ?it/s]"
      ]
     },
     "metadata": {},
     "output_type": "display_data"
    },
    {
     "name": "stdout",
     "output_type": "stream",
     "text": [
      "Epoch 2/10, Loss: 0.4771350622177124\n"
     ]
    },
    {
     "data": {
      "application/vnd.jupyter.widget-view+json": {
       "model_id": "7a62025ffd504a75ad1499cba01c00c8",
       "version_major": 2,
       "version_minor": 0
      },
      "text/plain": [
       "  0%|          | 0/6 [00:00<?, ?it/s]"
      ]
     },
     "metadata": {},
     "output_type": "display_data"
    },
    {
     "name": "stdout",
     "output_type": "stream",
     "text": [
      "Epoch 3/10, Loss: 0.21679389476776123\n"
     ]
    },
    {
     "data": {
      "application/vnd.jupyter.widget-view+json": {
       "model_id": "029da82868fe467f8f5040bf2afd5507",
       "version_major": 2,
       "version_minor": 0
      },
      "text/plain": [
       "  0%|          | 0/6 [00:00<?, ?it/s]"
      ]
     },
     "metadata": {},
     "output_type": "display_data"
    },
    {
     "name": "stdout",
     "output_type": "stream",
     "text": [
      "Epoch 4/10, Loss: 0.270353764295578\n"
     ]
    },
    {
     "data": {
      "application/vnd.jupyter.widget-view+json": {
       "model_id": "e9759cf2baaa4845aaef20374c81a208",
       "version_major": 2,
       "version_minor": 0
      },
      "text/plain": [
       "  0%|          | 0/6 [00:00<?, ?it/s]"
      ]
     },
     "metadata": {},
     "output_type": "display_data"
    },
    {
     "name": "stdout",
     "output_type": "stream",
     "text": [
      "Epoch 5/10, Loss: 0.32363516092300415\n"
     ]
    },
    {
     "data": {
      "application/vnd.jupyter.widget-view+json": {
       "model_id": "c160cf15a39e475c8bf03a661c9d3187",
       "version_major": 2,
       "version_minor": 0
      },
      "text/plain": [
       "  0%|          | 0/6 [00:00<?, ?it/s]"
      ]
     },
     "metadata": {},
     "output_type": "display_data"
    },
    {
     "name": "stdout",
     "output_type": "stream",
     "text": [
      "Epoch 6/10, Loss: 0.196036234498024\n"
     ]
    },
    {
     "data": {
      "application/vnd.jupyter.widget-view+json": {
       "model_id": "88023bf2b03541ff8d8ecb8b092b33d8",
       "version_major": 2,
       "version_minor": 0
      },
      "text/plain": [
       "  0%|          | 0/6 [00:00<?, ?it/s]"
      ]
     },
     "metadata": {},
     "output_type": "display_data"
    },
    {
     "name": "stdout",
     "output_type": "stream",
     "text": [
      "Epoch 7/10, Loss: 0.26595649123191833\n"
     ]
    },
    {
     "data": {
      "application/vnd.jupyter.widget-view+json": {
       "model_id": "22b1c3307c244bc592556f6ed796b2bd",
       "version_major": 2,
       "version_minor": 0
      },
      "text/plain": [
       "  0%|          | 0/6 [00:00<?, ?it/s]"
      ]
     },
     "metadata": {},
     "output_type": "display_data"
    },
    {
     "name": "stdout",
     "output_type": "stream",
     "text": [
      "Epoch 8/10, Loss: 0.15290193259716034\n"
     ]
    },
    {
     "data": {
      "application/vnd.jupyter.widget-view+json": {
       "model_id": "517e9511629746adbb0888bdb47dd33d",
       "version_major": 2,
       "version_minor": 0
      },
      "text/plain": [
       "  0%|          | 0/6 [00:00<?, ?it/s]"
      ]
     },
     "metadata": {},
     "output_type": "display_data"
    },
    {
     "name": "stdout",
     "output_type": "stream",
     "text": [
      "Epoch 9/10, Loss: 0.2589276134967804\n"
     ]
    },
    {
     "data": {
      "application/vnd.jupyter.widget-view+json": {
       "model_id": "14ba40ab96c74974a43f6a56a59967db",
       "version_major": 2,
       "version_minor": 0
      },
      "text/plain": [
       "  0%|          | 0/6 [00:00<?, ?it/s]"
      ]
     },
     "metadata": {},
     "output_type": "display_data"
    },
    {
     "name": "stdout",
     "output_type": "stream",
     "text": [
      "Epoch 10/10, Loss: 0.2227421998977661\n"
     ]
    }
   ],
   "source": [
    "device = torch.device(\"cuda\" if torch.cuda.is_available() else \"cpu\")\n",
    "criterion = nn.CrossEntropyLoss()\n",
    "# Set the hyperparameters for all the models     # TODO: analyze these by model\n",
    "embedding_dict = tokenizer.vocab_size\n",
    "embedding_size = 128\n",
    "hidden_size = 256\n",
    "num_layers = 2\n",
    "num_classes = 2\n",
    "dropout = 0.5\n",
    "learning_rate = 0.001\n",
    "num_epochs = 10\n",
    "\n",
    "# Initialize the model, loss function and optimizer\n",
    "model = CombinedLSTM(embedding_dict, embedding_size, hidden_size, num_layers, num_classes, dropout).to(device)\n",
    "optimizer = optim.Adam(model.parameters(), lr=learning_rate)\n",
    "\n",
    "# Train the model\n",
    "for epoch in range(num_epochs):\n",
    "    model.train()\n",
    "    for batch in tqdm(train_loader):\n",
    "        tokens, like_counts, labels = batch\n",
    "        comment_sequence = tokens['input_ids'].to(device)\n",
    "        like_counts = like_counts.to(device)\n",
    "        labels = labels.to(device)\n",
    "        outputs = model(comment_sequence, like_counts)\n",
    "        loss = criterion(outputs, labels)\n",
    "        optimizer.zero_grad()\n",
    "        loss.backward()\n",
    "        optimizer.step()\n",
    "    print(f'Epoch {epoch+1}/{num_epochs}, Loss: {loss.item()}')"
   ]
  },
  {
   "cell_type": "markdown",
   "metadata": {},
   "source": [
    "# Validation"
   ]
  },
  {
   "cell_type": "code",
   "execution_count": 31,
   "metadata": {},
   "outputs": [],
   "source": [
    "# Validation\n",
    "def check_accuracy(loader, model):\n",
    "    num_correct = 0\n",
    "    num_samples = 0\n",
    "    predictions = []\n",
    "    targets = []\n",
    "    model.eval()\n",
    "\n",
    "    with torch.no_grad():\n",
    "        for comments, like_counts, target in loader:\n",
    "            comments = {key: value.to(device) for key, value in comments.items()}\n",
    "            like_counts = like_counts.to(device)\n",
    "            target = target.to(device)\n",
    "\n",
    "            scores = model(comments['input_ids'], like_counts)\n",
    "            _, predicted = scores.max(1)\n",
    "            # Store decoded original comments, model predictions and actual labels \n",
    "            num_correct += (predicted == target).sum()\n",
    "            num_samples += predicted.size(0)\n",
    "\n",
    "            predictions.extend(predicted.tolist())\n",
    "            targets.extend(target.tolist())\n",
    "\n",
    "    # model.train()\n",
    "    accuracy = num_correct/num_samples\n",
    "    return accuracy, predictions, targets\n",
    "\n",
    "def results(model):\n",
    "    train_acc, train_preds, train_targets = check_accuracy(train_loader, model)\n",
    "    val_acc, val_preds, val_targets = check_accuracy(val_loader, model)\n",
    "    test_acc, test_preds, test_targets = check_accuracy(test_loader, model)\n",
    "\n",
    "    print(f'Train accuracy: {train_acc}')\n",
    "    print(f'Validation accuracy: {val_acc}')\n",
    "    print(f'Test accuracy: {test_acc}')\n",
    "\n",
    "    train_cm = confusion_matrix(train_targets, train_preds)\n",
    "    val_cm = confusion_matrix(val_targets, val_preds)\n",
    "    test_cm = confusion_matrix(test_targets, test_preds)\n",
    "\n",
    "    print(f'Train Confusion Matrix:\\n{train_cm}')\n",
    "    print(f'Validation Confusion Matrix:\\n{val_cm}')\n",
    "    print(f'Test Confusion Matrix:\\n{test_cm}')\n",
    "\n",
    "    # Classification report\n",
    "    train_report = classification_report(train_targets, train_preds)\n",
    "    val_report = classification_report(val_targets, val_preds)\n",
    "    test_report = classification_report(test_targets, test_preds)\n",
    "\n",
    "    print(f'Train Classification Report:\\n{train_report}')\n",
    "    print(f'Validation Classification Report:\\n{val_report}')\n",
    "    print(f'Test Classification Report:\\n{test_report}')"
   ]
  },
  {
   "cell_type": "code",
   "execution_count": 32,
   "metadata": {},
   "outputs": [
    {
     "name": "stdout",
     "output_type": "stream",
     "text": [
      "Train accuracy: 0.9351032376289368\n",
      "Validation accuracy: 0.8493150472640991\n",
      "Test accuracy: 0.9178082346916199\n",
      "Train Confusion Matrix:\n",
      "[[232   2]\n",
      " [ 20  85]]\n",
      "Validation Confusion Matrix:\n",
      "[[43  2]\n",
      " [ 9 19]]\n",
      "Test Confusion Matrix:\n",
      "[[43  0]\n",
      " [ 6 24]]\n",
      "Train Classification Report:\n",
      "              precision    recall  f1-score   support\n",
      "\n",
      "           0       0.92      0.99      0.95       234\n",
      "           1       0.98      0.81      0.89       105\n",
      "\n",
      "    accuracy                           0.94       339\n",
      "   macro avg       0.95      0.90      0.92       339\n",
      "weighted avg       0.94      0.94      0.93       339\n",
      "\n",
      "Validation Classification Report:\n",
      "              precision    recall  f1-score   support\n",
      "\n",
      "           0       0.83      0.96      0.89        45\n",
      "           1       0.90      0.68      0.78        28\n",
      "\n",
      "    accuracy                           0.85        73\n",
      "   macro avg       0.87      0.82      0.83        73\n",
      "weighted avg       0.86      0.85      0.84        73\n",
      "\n",
      "Test Classification Report:\n",
      "              precision    recall  f1-score   support\n",
      "\n",
      "           0       0.88      1.00      0.93        43\n",
      "           1       1.00      0.80      0.89        30\n",
      "\n",
      "    accuracy                           0.92        73\n",
      "   macro avg       0.94      0.90      0.91        73\n",
      "weighted avg       0.93      0.92      0.92        73\n",
      "\n"
     ]
    }
   ],
   "source": [
    "results(model)"
   ]
  },
  {
   "cell_type": "code",
   "execution_count": null,
   "metadata": {},
   "outputs": [],
   "source": []
  }
 ],
 "metadata": {
  "kernelspec": {
   "display_name": "base",
   "language": "python",
   "name": "python3"
  },
  "language_info": {
   "codemirror_mode": {
    "name": "ipython",
    "version": 3
   },
   "file_extension": ".py",
   "mimetype": "text/x-python",
   "name": "python",
   "nbconvert_exporter": "python",
   "pygments_lexer": "ipython3",
   "version": "3.11.7"
  }
 },
 "nbformat": 4,
 "nbformat_minor": 2
}
