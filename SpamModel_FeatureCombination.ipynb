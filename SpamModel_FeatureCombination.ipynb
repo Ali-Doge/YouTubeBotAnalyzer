{
 "cells": [
  {
   "cell_type": "code",
   "execution_count": 1,
   "metadata": {},
   "outputs": [
    {
     "name": "stdout",
     "output_type": "stream",
     "text": [
      "Collecting torchsummary\n",
      "  Using cached torchsummary-1.5.1-py3-none-any.whl.metadata (296 bytes)\n",
      "Using cached torchsummary-1.5.1-py3-none-any.whl (2.8 kB)\n",
      "Installing collected packages: torchsummary\n",
      "Successfully installed torchsummary-1.5.1\n",
      "Note: you may need to restart the kernel to use updated packages.\n"
     ]
    }
   ],
   "source": [
    "%pip install torchsummary"
   ]
  },
  {
   "cell_type": "code",
   "execution_count": 2,
   "metadata": {},
   "outputs": [],
   "source": [
    "import numpy as np\n",
    "import matplotlib.pyplot as plt\n",
    "import torch\n",
    "import torch.nn as nn  # All neural network modules, nn.Linear, nn.Conv2d, BatchNorm, Loss functions\n",
    "import torch.optim as optim  # For all Optimization algorithms, SGD, Adam, etc.\n",
    "import torch.nn.functional as F  # All functions that don't have any parameters\n",
    "from torch.utils.data import (DataLoader,)  # Gives easier dataset managment and creates mini batches\n",
    "#import torchvision  # torch package for vision related things\n",
    "#import torchvision.datasets as datasets  # Has standard datasets we can import in a nice way\n",
    "#import torchvision.transforms as transforms\n",
    "import pandas as pd\n",
    "import random\n",
    "from sklearn.metrics import confusion_matrix, classification_report\n",
    "from sklearn.metrics import accuracy_score, precision_score, recall_score, f1_score, make_scorer\n",
    "from sklearn.model_selection import RandomizedSearchCV\n",
    "from tqdm.auto import tqdm\n",
    "from transformers import DistilBertTokenizer\n",
    "from torchsummary import summary"
   ]
  },
  {
   "cell_type": "markdown",
   "metadata": {},
   "source": [
    "# Data Loading\n",
    "Grabbing the dataset with the like count included"
   ]
  },
  {
   "cell_type": "code",
   "execution_count": 3,
   "metadata": {},
   "outputs": [],
   "source": [
    "# Split the downloaded Youtube01-Psy.csv file into train, validation and test sets\n",
    "data = pd.read_csv('SpamDataset/TSwift_ShakeItOff_Spam.csv')\n",
    "# data = pd.read_csv('TSwift_ShakeItOff_Spam.csv')\n",
    "data = data.sample(frac=1).reset_index(drop=True)  # Shuffle the data\n",
    "train_data = data[:int(0.7*len(data))]\n",
    "val_data = data[int(0.7*len(data)):int(0.85*len(data))]\n",
    "test_data = data[int(0.85*len(data)):]\n",
    "\n",
    "# Tokenize the data using distillbert\n",
    "tokenizer = DistilBertTokenizer.from_pretrained('distilbert-base-uncased')\n",
    "\n",
    "# Turn pd dataframe into a tokenized PyTorch dataset that DataLoader can use via the SpamDataset class\n",
    "class SpamDataset(torch.utils.data.Dataset):\n",
    "    def __init__(self, data):\n",
    "        self.data = data\n",
    "\n",
    "    def __len__(self):\n",
    "        return len(self.data)\n",
    "\n",
    "    def __getitem__(self, idx):\n",
    "        row = self.data.iloc[idx]\n",
    "        comment_tokens = row['CONTENT']\n",
    "        like_count = row['LIKE_COUNT']\n",
    "        summary = row['SUMMARY']\n",
    "        label = row['CLASS']\n",
    "        return comment_tokens, like_count, summary, label\n",
    "    \n",
    "    def collate_fn(self, batch):\n",
    "        comments = [row[0] for row in batch]\n",
    "        like_counts = [row[1] for row in batch]\n",
    "        summary = [row[2] for row in batch]\n",
    "        labels = [row[3] for row in batch]\n",
    "        comment_tokens = tokenizer.batch_encode_plus(comments, truncation=True, padding='max_length', max_length=70, return_tensors='pt')\n",
    "        summary_tokens = tokenizer.batch_encode_plus(summary, truncation=True, padding='max_length', max_length=70, return_tensors='pt')\n",
    "        return comment_tokens, torch.tensor(like_counts), summary_tokens, torch.tensor(labels)\n",
    "    \n",
    "train_dataset = SpamDataset(train_data)\n",
    "val_dataset = SpamDataset(val_data)\n",
    "test_dataset = SpamDataset(test_data)\n",
    "\n",
    "\n",
    "# Load Data and collate it\n",
    "batch_size = 64\n",
    "train_loader = DataLoader(train_dataset, batch_size=batch_size, shuffle=True, collate_fn=train_dataset.collate_fn)\n",
    "val_loader = DataLoader(val_dataset, batch_size=batch_size, shuffle=False, collate_fn=val_dataset.collate_fn)\n",
    "test_loader = DataLoader(test_dataset, batch_size=batch_size, shuffle=False, collate_fn=test_dataset.collate_fn)"
   ]
  },
  {
   "cell_type": "code",
   "execution_count": 4,
   "metadata": {},
   "outputs": [
    {
     "name": "stdout",
     "output_type": "stream",
     "text": [
      "[CLS] the day this video was released was the day i quit drugs. i ’ ll never forget it. this song and “ clover cage - learning to love myself ” are the two songs that helped get rid of my depression. i just want to send love to everyone and i want everyone to know things will get better. we are in this together [SEP]\n",
      "[CLS] taylor swift's \" shake it off \" music video is a colorful, upbeat anthem celebrating self - confidence and positivity. with catchy lyrics and energetic choreography, swift embraces different dance styles and encourages listeners to shrug off negativity. the video's vibrant visuals and playful tone make it a feel - good pop sensation. [SEP]\n"
     ]
    }
   ],
   "source": [
    "# Print a random sample from the train_loader to confirm correct loading and tokenization\n",
    "sample = next(iter(train_loader))\n",
    "print(tokenizer.decode(sample[0]['input_ids'][0]))\n",
    "print(tokenizer.decode(sample[2]['input_ids'][0]))"
   ]
  },
  {
   "cell_type": "markdown",
   "metadata": {},
   "source": [
    "# Model\n",
    "- Model 1 - include Like count\n",
    "- Model 2 - include LLM evaluation of the video "
   ]
  },
  {
   "cell_type": "code",
   "execution_count": 5,
   "metadata": {},
   "outputs": [],
   "source": [
    "## The network includes an Embedding layer, an Attention layer, an LSTM layer and a Linear layer\n",
    "class CombinedLSTM(nn.Module):\n",
    "    def __init__(self, embedding_dict, embedding_size, hidden_size, num_layers, num_classes, dropout):\n",
    "        super(CombinedLSTM, self).__init__()\n",
    "        self.hidden_size = hidden_size\n",
    "        self.num_layers = num_layers\n",
    "        self.embedding = nn.Embedding(embedding_dict, embedding_size)\n",
    "        self.dropout = nn.Dropout(dropout)\n",
    "        self.lstm = nn.LSTM(embedding_size, hidden_size, num_layers, batch_first=True, dropout=dropout)\n",
    "        self.attention = nn.Linear(hidden_size, 1)\n",
    "\n",
    "\n",
    "        self.embedding_summary = nn.Embedding(embedding_dict, embedding_size)\n",
    "        self.dropout_summary = nn.Dropout(dropout)\n",
    "        self.lstm_summary = nn.LSTM(embedding_size, hidden_size, num_layers, batch_first=True, dropout=dropout)\n",
    "        self.attention_summary = nn.Linear(hidden_size, 1)\n",
    "\n",
    "\n",
    "        self.fc = nn.Linear(2 * hidden_size + 1, num_classes) # +1 for like count\n",
    "        \n",
    "    def forward(self, comment_sequence, like_count, summary_sequence):\n",
    "        # Evaluate the comment sequence\n",
    "        # comment_sequence: (batch_size, max_seq_length)\n",
    "        comment_embedding = self.dropout(self.embedding(comment_sequence))\n",
    "        # embedding shape: (batch_size, max_seq_length, embedding_size)\n",
    "        output_comments, (h_n, c_n) = self.lstm(comment_embedding)\n",
    "        # output shape: (batch_size, max_seq_length, hidden_size)\n",
    "        # h_n shape: (num_layers, batch_size, hidden_size)\n",
    "        attention_weights = F.softmax(self.attention(output_comments), dim=1)\n",
    "        # attention_weights shape: (batch_size, max_seq_length, 1)\n",
    "        output_comments = torch.sum(attention_weights * output_comments, dim=1)\n",
    "\n",
    "        # Evaluate the summary sequence\n",
    "        # summary_sequence: (batch_size, max_seq_length)\n",
    "        summary_embedding = self.dropout_summary(self.embedding_summary(summary_sequence))\n",
    "        # embedding shape: (batch_size, max_seq_length, embedding_size)\n",
    "        output_summary, (h_n, c_n) = self.lstm_summary(summary_embedding)\n",
    "        # output shape: (batch_size, max_seq_length, hidden_size)\n",
    "        # h_n shape: (num_layers, batch_size, hidden_size)\n",
    "        attention_weights = F.softmax(self.attention_summary(output_summary), dim=1)\n",
    "        # attention_weights shape: (batch_size, max_seq_length, 1)\n",
    "        output_summary = torch.sum(attention_weights * output_summary, dim=1)\n",
    "\n",
    "        # Combine the comment and summary feature outputs with the like count\n",
    "        # out shape: (batch_size, hidden_size)\n",
    "        out = torch.cat((output_comments, output_summary, like_count.unsqueeze(1)), 1)\n",
    "        # out shape: (batch_size, hidden_size + 1)\n",
    "        out = self.fc(out)\n",
    "        # out shape: (batch_size, num_classes)\n",
    "        return out"
   ]
  },
  {
   "cell_type": "markdown",
   "metadata": {},
   "source": [
    "# Training"
   ]
  },
  {
   "cell_type": "code",
   "execution_count": 6,
   "metadata": {},
   "outputs": [
    {
     "data": {
      "application/vnd.jupyter.widget-view+json": {
       "model_id": "2e8d78125d5b4697a6471aa8cd0bcf08",
       "version_major": 2,
       "version_minor": 0
      },
      "text/plain": [
       "  0%|          | 0/6 [00:00<?, ?it/s]"
      ]
     },
     "metadata": {},
     "output_type": "display_data"
    },
    {
     "name": "stdout",
     "output_type": "stream",
     "text": [
      "Epoch 1/15, Loss: 0.5169246792793274\n"
     ]
    },
    {
     "data": {
      "application/vnd.jupyter.widget-view+json": {
       "model_id": "845ca12f3f6a4915bc90fd74a4745ec5",
       "version_major": 2,
       "version_minor": 0
      },
      "text/plain": [
       "  0%|          | 0/6 [00:00<?, ?it/s]"
      ]
     },
     "metadata": {},
     "output_type": "display_data"
    },
    {
     "name": "stdout",
     "output_type": "stream",
     "text": [
      "Epoch 2/15, Loss: 0.4684121906757355\n"
     ]
    },
    {
     "data": {
      "application/vnd.jupyter.widget-view+json": {
       "model_id": "f1408303edd540e49df91c30bccdb05a",
       "version_major": 2,
       "version_minor": 0
      },
      "text/plain": [
       "  0%|          | 0/6 [00:00<?, ?it/s]"
      ]
     },
     "metadata": {},
     "output_type": "display_data"
    },
    {
     "name": "stdout",
     "output_type": "stream",
     "text": [
      "Epoch 3/15, Loss: 0.4363253712654114\n"
     ]
    },
    {
     "data": {
      "application/vnd.jupyter.widget-view+json": {
       "model_id": "fd9568d3a54b4fd8b5d9430ace221030",
       "version_major": 2,
       "version_minor": 0
      },
      "text/plain": [
       "  0%|          | 0/6 [00:00<?, ?it/s]"
      ]
     },
     "metadata": {},
     "output_type": "display_data"
    },
    {
     "name": "stdout",
     "output_type": "stream",
     "text": [
      "Epoch 4/15, Loss: 0.3284980058670044\n"
     ]
    },
    {
     "data": {
      "application/vnd.jupyter.widget-view+json": {
       "model_id": "7278243de9f947ecbdd314ff99378287",
       "version_major": 2,
       "version_minor": 0
      },
      "text/plain": [
       "  0%|          | 0/6 [00:00<?, ?it/s]"
      ]
     },
     "metadata": {},
     "output_type": "display_data"
    },
    {
     "name": "stdout",
     "output_type": "stream",
     "text": [
      "Epoch 5/15, Loss: 0.40577083826065063\n"
     ]
    },
    {
     "data": {
      "application/vnd.jupyter.widget-view+json": {
       "model_id": "03d1d7d50e1441dc8d70645de7966325",
       "version_major": 2,
       "version_minor": 0
      },
      "text/plain": [
       "  0%|          | 0/6 [00:00<?, ?it/s]"
      ]
     },
     "metadata": {},
     "output_type": "display_data"
    },
    {
     "name": "stdout",
     "output_type": "stream",
     "text": [
      "Epoch 6/15, Loss: 0.4022042155265808\n"
     ]
    },
    {
     "data": {
      "application/vnd.jupyter.widget-view+json": {
       "model_id": "5df12cd9cf00486fabbfbd3057e95341",
       "version_major": 2,
       "version_minor": 0
      },
      "text/plain": [
       "  0%|          | 0/6 [00:00<?, ?it/s]"
      ]
     },
     "metadata": {},
     "output_type": "display_data"
    },
    {
     "name": "stdout",
     "output_type": "stream",
     "text": [
      "Epoch 7/15, Loss: 0.3652277886867523\n"
     ]
    },
    {
     "data": {
      "application/vnd.jupyter.widget-view+json": {
       "model_id": "508218aeea6342b29199cbf91b9ba506",
       "version_major": 2,
       "version_minor": 0
      },
      "text/plain": [
       "  0%|          | 0/6 [00:00<?, ?it/s]"
      ]
     },
     "metadata": {},
     "output_type": "display_data"
    },
    {
     "name": "stdout",
     "output_type": "stream",
     "text": [
      "Epoch 8/15, Loss: 0.3092222511768341\n"
     ]
    },
    {
     "data": {
      "application/vnd.jupyter.widget-view+json": {
       "model_id": "6ed9b6ccd0014ba985a33f81d2e8a4e5",
       "version_major": 2,
       "version_minor": 0
      },
      "text/plain": [
       "  0%|          | 0/6 [00:00<?, ?it/s]"
      ]
     },
     "metadata": {},
     "output_type": "display_data"
    },
    {
     "name": "stdout",
     "output_type": "stream",
     "text": [
      "Epoch 9/15, Loss: 0.2328093945980072\n"
     ]
    },
    {
     "data": {
      "application/vnd.jupyter.widget-view+json": {
       "model_id": "53300acd58fc47f6a28ce4a6b6cc315c",
       "version_major": 2,
       "version_minor": 0
      },
      "text/plain": [
       "  0%|          | 0/6 [00:00<?, ?it/s]"
      ]
     },
     "metadata": {},
     "output_type": "display_data"
    },
    {
     "name": "stdout",
     "output_type": "stream",
     "text": [
      "Epoch 10/15, Loss: 0.5466876029968262\n"
     ]
    },
    {
     "data": {
      "application/vnd.jupyter.widget-view+json": {
       "model_id": "bc4a36ced1404b6dadecc4e06608eeed",
       "version_major": 2,
       "version_minor": 0
      },
      "text/plain": [
       "  0%|          | 0/6 [00:00<?, ?it/s]"
      ]
     },
     "metadata": {},
     "output_type": "display_data"
    },
    {
     "name": "stdout",
     "output_type": "stream",
     "text": [
      "Epoch 11/15, Loss: 0.2957383394241333\n"
     ]
    },
    {
     "data": {
      "application/vnd.jupyter.widget-view+json": {
       "model_id": "6ec8a5e57db2469b8f3d2371399d1aac",
       "version_major": 2,
       "version_minor": 0
      },
      "text/plain": [
       "  0%|          | 0/6 [00:00<?, ?it/s]"
      ]
     },
     "metadata": {},
     "output_type": "display_data"
    },
    {
     "name": "stdout",
     "output_type": "stream",
     "text": [
      "Epoch 12/15, Loss: 0.14159753918647766\n"
     ]
    },
    {
     "data": {
      "application/vnd.jupyter.widget-view+json": {
       "model_id": "176a0e4a797d48c99ee13aedca41d7ae",
       "version_major": 2,
       "version_minor": 0
      },
      "text/plain": [
       "  0%|          | 0/6 [00:00<?, ?it/s]"
      ]
     },
     "metadata": {},
     "output_type": "display_data"
    },
    {
     "name": "stdout",
     "output_type": "stream",
     "text": [
      "Epoch 13/15, Loss: 0.24954117834568024\n"
     ]
    },
    {
     "data": {
      "application/vnd.jupyter.widget-view+json": {
       "model_id": "ddd044268ba245829b14d795d4831248",
       "version_major": 2,
       "version_minor": 0
      },
      "text/plain": [
       "  0%|          | 0/6 [00:00<?, ?it/s]"
      ]
     },
     "metadata": {},
     "output_type": "display_data"
    },
    {
     "name": "stdout",
     "output_type": "stream",
     "text": [
      "Epoch 14/15, Loss: 0.06824345141649246\n"
     ]
    },
    {
     "data": {
      "application/vnd.jupyter.widget-view+json": {
       "model_id": "ab22af1253664c18b14311c7932d6155",
       "version_major": 2,
       "version_minor": 0
      },
      "text/plain": [
       "  0%|          | 0/6 [00:00<?, ?it/s]"
      ]
     },
     "metadata": {},
     "output_type": "display_data"
    },
    {
     "name": "stdout",
     "output_type": "stream",
     "text": [
      "Epoch 15/15, Loss: 0.30537575483322144\n"
     ]
    }
   ],
   "source": [
    "device = torch.device(\"cuda\" if torch.cuda.is_available() else \"cpu\")\n",
    "criterion = nn.CrossEntropyLoss()\n",
    "# Set the hyperparameters for all the models     # TODO: analyze these by model\n",
    "embedding_dict = tokenizer.vocab_size\n",
    "embedding_size = 128\n",
    "hidden_size = 256\n",
    "num_layers = 4\n",
    "num_classes = 2\n",
    "dropout = 0.4\n",
    "learning_rate = 0.0007\n",
    "num_epochs = 15\n",
    "\n",
    "# Initialize the model, loss function and optimizer\n",
    "model = CombinedLSTM(embedding_dict, embedding_size, hidden_size, num_layers, num_classes, dropout).to(device)\n",
    "optimizer = optim.Adam(model.parameters(), lr=learning_rate)\n",
    "\n",
    "# Train the model\n",
    "for epoch in range(num_epochs):\n",
    "    model.train()\n",
    "    for batch in tqdm(train_loader):\n",
    "        comment_tokens, like_counts, summary_tokens, labels = batch\n",
    "        comment_sequence = comment_tokens['input_ids'].to(device)\n",
    "        like_counts = like_counts.to(device)\n",
    "        summary_sequence = summary_tokens['input_ids'].to(device)\n",
    "        labels = labels.to(device)\n",
    "        outputs = model(comment_sequence, like_counts, summary_sequence)\n",
    "        loss = criterion(outputs, labels)\n",
    "        optimizer.zero_grad()\n",
    "        loss.backward()\n",
    "        optimizer.step()\n",
    "    print(f'Epoch {epoch+1}/{num_epochs}, Loss: {loss.item()}')"
   ]
  },
  {
   "cell_type": "markdown",
   "metadata": {},
   "source": [
    "# Validation"
   ]
  },
  {
   "cell_type": "code",
   "execution_count": 7,
   "metadata": {},
   "outputs": [],
   "source": [
    "# Validation\n",
    "def check_accuracy(loader, model):\n",
    "    num_correct = 0\n",
    "    num_samples = 0\n",
    "    predictions = []\n",
    "    targets = []\n",
    "    model.eval()\n",
    "\n",
    "    with torch.no_grad():\n",
    "        for comments, like_counts, summary, target in loader:\n",
    "            comments = {key: value.to(device) for key, value in comments.items()}\n",
    "            like_counts = like_counts.to(device)\n",
    "            summary = {key: value.to(device) for key, value in summary.items()}\n",
    "            target = target.to(device)\n",
    "\n",
    "            scores = model(comments['input_ids'], like_counts, summary['input_ids'])\n",
    "            _, predicted = scores.max(1)\n",
    "            # Store decoded original comments, model predictions and actual labels \n",
    "            num_correct += (predicted == target).sum()\n",
    "            num_samples += predicted.size(0)\n",
    "\n",
    "            predictions.extend(predicted.tolist())\n",
    "            targets.extend(target.tolist())\n",
    "\n",
    "    # model.train()\n",
    "    accuracy = num_correct/num_samples\n",
    "    return accuracy, predictions, targets\n",
    "\n",
    "def results(model):\n",
    "    train_acc, train_preds, train_targets = check_accuracy(train_loader, model)\n",
    "    val_acc, val_preds, val_targets = check_accuracy(val_loader, model)\n",
    "    test_acc, test_preds, test_targets = check_accuracy(test_loader, model)\n",
    "\n",
    "    print(f'Train accuracy: {train_acc}')\n",
    "    print(f'Validation accuracy: {val_acc}')\n",
    "    print(f'Test accuracy: {test_acc}')\n",
    "\n",
    "    train_cm = confusion_matrix(train_targets, train_preds)\n",
    "    val_cm = confusion_matrix(val_targets, val_preds)\n",
    "    test_cm = confusion_matrix(test_targets, test_preds)\n",
    "\n",
    "    print(f'Train Confusion Matrix:\\n{train_cm}')\n",
    "    print(f'Validation Confusion Matrix:\\n{val_cm}')\n",
    "    print(f'Test Confusion Matrix:\\n{test_cm}')\n",
    "\n",
    "    # Classification report\n",
    "    train_report = classification_report(train_targets, train_preds)\n",
    "    val_report = classification_report(val_targets, val_preds)\n",
    "    test_report = classification_report(test_targets, test_preds)\n",
    "\n",
    "    print(f'Train Classification Report:\\n{train_report}')\n",
    "    print(f'Validation Classification Report:\\n{val_report}')\n",
    "    print(f'Test Classification Report:\\n{test_report}')"
   ]
  },
  {
   "cell_type": "code",
   "execution_count": 8,
   "metadata": {},
   "outputs": [
    {
     "name": "stdout",
     "output_type": "stream",
     "text": [
      "Train accuracy: 0.976401150226593\n",
      "Validation accuracy: 0.8767123222351074\n",
      "Test accuracy: 0.8219178318977356\n",
      "Train Confusion Matrix:\n",
      "[[222   2]\n",
      " [  6 109]]\n",
      "Validation Confusion Matrix:\n",
      "[[42  6]\n",
      " [ 3 22]]\n",
      "Test Confusion Matrix:\n",
      "[[41  9]\n",
      " [ 4 19]]\n",
      "Train Classification Report:\n",
      "              precision    recall  f1-score   support\n",
      "\n",
      "           0       0.97      0.99      0.98       224\n",
      "           1       0.98      0.95      0.96       115\n",
      "\n",
      "    accuracy                           0.98       339\n",
      "   macro avg       0.98      0.97      0.97       339\n",
      "weighted avg       0.98      0.98      0.98       339\n",
      "\n",
      "Validation Classification Report:\n",
      "              precision    recall  f1-score   support\n",
      "\n",
      "           0       0.93      0.88      0.90        48\n",
      "           1       0.79      0.88      0.83        25\n",
      "\n",
      "    accuracy                           0.88        73\n",
      "   macro avg       0.86      0.88      0.87        73\n",
      "weighted avg       0.88      0.88      0.88        73\n",
      "\n",
      "Test Classification Report:\n",
      "              precision    recall  f1-score   support\n",
      "\n",
      "           0       0.91      0.82      0.86        50\n",
      "           1       0.68      0.83      0.75        23\n",
      "\n",
      "    accuracy                           0.82        73\n",
      "   macro avg       0.79      0.82      0.80        73\n",
      "weighted avg       0.84      0.82      0.83        73\n",
      "\n"
     ]
    }
   ],
   "source": [
    "results(model)"
   ]
  },
  {
   "cell_type": "code",
   "execution_count": 11,
   "metadata": {},
   "outputs": [
    {
     "ename": "TypeError",
     "evalue": "'int' object is not iterable",
     "output_type": "error",
     "traceback": [
      "\u001b[1;31m---------------------------------------------------------------------------\u001b[0m",
      "\u001b[1;31mTypeError\u001b[0m                                 Traceback (most recent call last)",
      "Cell \u001b[1;32mIn[11], line 1\u001b[0m\n\u001b[1;32m----> 1\u001b[0m summary(model, input_size\u001b[38;5;241m=\u001b[39m(\u001b[38;5;241m3\u001b[39m))\n",
      "File \u001b[1;32mc:\\Users\\a_sta\\anaconda3\\Lib\\site-packages\\torchsummary\\torchsummary.py:60\u001b[0m, in \u001b[0;36msummary\u001b[1;34m(model, input_size, batch_size, device)\u001b[0m\n\u001b[0;32m     57\u001b[0m     input_size \u001b[38;5;241m=\u001b[39m [input_size]\n\u001b[0;32m     59\u001b[0m \u001b[38;5;66;03m# batch_size of 2 for batchnorm\u001b[39;00m\n\u001b[1;32m---> 60\u001b[0m x \u001b[38;5;241m=\u001b[39m [torch\u001b[38;5;241m.\u001b[39mrand(\u001b[38;5;241m2\u001b[39m, \u001b[38;5;241m*\u001b[39min_size)\u001b[38;5;241m.\u001b[39mtype(dtype) \u001b[38;5;28;01mfor\u001b[39;00m in_size \u001b[38;5;129;01min\u001b[39;00m input_size]\n\u001b[0;32m     61\u001b[0m \u001b[38;5;66;03m# print(type(x[0]))\u001b[39;00m\n\u001b[0;32m     62\u001b[0m \n\u001b[0;32m     63\u001b[0m \u001b[38;5;66;03m# create properties\u001b[39;00m\n\u001b[0;32m     64\u001b[0m summary \u001b[38;5;241m=\u001b[39m OrderedDict()\n",
      "\u001b[1;31mTypeError\u001b[0m: 'int' object is not iterable"
     ]
    }
   ],
   "source": [
    "from torchviz import make_dot\n",
    "embedding_dict = tokenizer.vocab_size\n",
    "embedding_size = 128\n",
    "hidden_size = 256\n",
    "num_layers = 1\n",
    "num_classes = 2\n",
    "dropout = 0.4\n",
    "learning_rate = 0.0007\n",
    "num_epochs = 15\n",
    "\n",
    "# Initialize the model, loss function and optimizer\n",
    "model = CombinedLSTM(embedding_dict, embedding_size, hidden_size, num_layers, num_classes, dropout).to(device)\n",
    "optimizer = optim.Adam(model.parameters(), lr=learning_rate)\n",
    "\n",
    "batch = next(iter(train_loader))\n",
    "scores = model(batch[0]['input_ids'], batch[1], batch[2]['input_ids'])\n",
    "\n",
    "print(model)\n",
    "make_dot(scores, params=dict(list(model.named_parameters()))).render(\"model_images/feature_combination_lstm\", format=\"png\")"
   ]
  }
 ],
 "metadata": {
  "kernelspec": {
   "display_name": "base",
   "language": "python",
   "name": "python3"
  },
  "language_info": {
   "codemirror_mode": {
    "name": "ipython",
    "version": 3
   },
   "file_extension": ".py",
   "mimetype": "text/x-python",
   "name": "python",
   "nbconvert_exporter": "python",
   "pygments_lexer": "ipython3",
   "version": "3.11.7"
  }
 },
 "nbformat": 4,
 "nbformat_minor": 2
}
