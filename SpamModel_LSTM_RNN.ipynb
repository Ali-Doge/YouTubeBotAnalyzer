{
  "cells": [
    {
      "cell_type": "code",
      "execution_count": 1,
      "metadata": {
        "id": "7bXzjaYEYs-q"
      },
      "outputs": [
        {
          "name": "stderr",
          "output_type": "stream",
          "text": [
            "c:\\Users\\Marshall\\AppData\\Local\\Programs\\Python\\Python310\\lib\\site-packages\\tqdm\\auto.py:21: TqdmWarning: IProgress not found. Please update jupyter and ipywidgets. See https://ipywidgets.readthedocs.io/en/stable/user_install.html\n",
            "  from .autonotebook import tqdm as notebook_tqdm\n"
          ]
        }
      ],
      "source": [
        "import numpy as np\n",
        "import matplotlib.pyplot as plt\n",
        "import torch\n",
        "import torch.nn as nn  # All neural network modules, nn.Linear, nn.Conv2d, BatchNorm, Loss functions\n",
        "import torch.optim as optim  # For all Optimization algorithms, SGD, Adam, etc.\n",
        "import torch.nn.functional as F  # All functions that don't have any parameters\n",
        "from torch.utils.data import (DataLoader,)  # Gives easier dataset managment and creates mini batches\n",
        "#import torchvision  # torch package for vision related things\n",
        "#import torchvision.datasets as datasets  # Has standard datasets we can import in a nice way\n",
        "#import torchvision.transforms as transforms\n",
        "import pandas as pd\n",
        "import random\n",
        "from tqdm.auto import tqdm\n",
        "from transformers import DistilBertTokenizer"
      ]
    },
    {
      "cell_type": "code",
      "execution_count": 2,
      "metadata": {
        "colab": {
          "base_uri": "https://localhost:8080/"
        },
        "id": "M6j6OhmvY3GA",
        "outputId": "ed60e5af-bb9f-454f-eb78-5c646900d221"
      },
      "outputs": [],
      "source": [
        "# Run when executing on Google Colab\n",
        "#from google.colab import drive\n",
        "#drive.mount('/content/drive')\n",
        "\n",
        "#!cp \"/content/drive/MyDrive/Colab Notebooks/Deep Learning/DeepLProject/SpamDataset.zip\" \"./SpamDataset.zip\"\n",
        "#!unzip SpamDataset.zip"
      ]
    },
    {
      "cell_type": "code",
      "execution_count": 3,
      "metadata": {
        "id": "RpnrwlrtZwYH"
      },
      "outputs": [],
      "source": [
        "# Split the downloaded Youtube01-Psy.csv file into train, validation and test sets\n",
        "data = pd.read_csv('SpamDataset/Youtube01-Psy.csv')\n",
        "# data = pd.read_csv('TSwift_ShakeItOff_Spam.csv')\n",
        "data = data.sample(frac=1).reset_index(drop=True)  # Shuffle the data\n",
        "train_data = data[:int(0.7*len(data))]\n",
        "val_data = data[int(0.7*len(data)):int(0.85*len(data))]\n",
        "test_data = data[int(0.85*len(data)):]\n",
        "\n",
        "# Tokenize the data using distillbert\n",
        "tokenizer = DistilBertTokenizer.from_pretrained('distilbert-base-uncased')\n",
        "\n",
        "# Turn pd dataframe into a tokenized PyTorch dataset that DataLoader can use via the SpamDataset class\n",
        "class SpamDataset(torch.utils.data.Dataset):\n",
        "    def __init__(self, data):\n",
        "        self.data = data\n",
        "\n",
        "    def __len__(self):\n",
        "        return len(self.data)\n",
        "\n",
        "    def __getitem__(self, idx):\n",
        "        row = self.data.iloc[idx]\n",
        "        comment_tokens = row['CONTENT']\n",
        "        label = row['CLASS']\n",
        "        return comment_tokens, label\n",
        "    \n",
        "    def collate_fn(self, batch):\n",
        "        comments = [row[0] for row in batch]\n",
        "        labels = [row[1] for row in batch]\n",
        "        tokens = tokenizer.batch_encode_plus(comments, truncation=True, padding='max_length', max_length=30, return_tensors='pt')\n",
        "        return tokens, torch.tensor(labels)\n",
        "    \n",
        "train_dataset = SpamDataset(train_data)\n",
        "val_dataset = SpamDataset(val_data)\n",
        "test_dataset = SpamDataset(test_data)\n",
        "\n",
        "\n",
        "# Load Data and collate it\n",
        "batch_size = 64\n",
        "train_loader = DataLoader(train_dataset, batch_size=batch_size, shuffle=True, collate_fn=train_dataset.collate_fn)\n",
        "val_loader = DataLoader(val_dataset, batch_size=batch_size, shuffle=False, collate_fn=val_dataset.collate_fn)\n",
        "test_loader = DataLoader(test_dataset, batch_size=batch_size, shuffle=False, collate_fn=test_dataset.collate_fn)"
      ]
    },
    {
      "cell_type": "code",
      "execution_count": 4,
      "metadata": {},
      "outputs": [
        {
          "name": "stdout",
          "output_type": "stream",
          "text": [
            "({'input_ids': tensor([[  101,  8840,  2140,  ...,     0,     0,     0],\n",
            "        [  101,  2145,  3666,  ...,     0,     0,     0],\n",
            "        [  101,  4931,  4364,  ...,  2065,  2017,   102],\n",
            "        ...,\n",
            "        [  101,  4638,  2041,  ...,     0,     0,     0],\n",
            "        [  101, 16770,  1024,  ...,  2683,  2581,   102],\n",
            "        [  101,  2054,  2003,  ...,     0,     0,     0]]), 'attention_mask': tensor([[1, 1, 1,  ..., 0, 0, 0],\n",
            "        [1, 1, 1,  ..., 0, 0, 0],\n",
            "        [1, 1, 1,  ..., 1, 1, 1],\n",
            "        ...,\n",
            "        [1, 1, 1,  ..., 0, 0, 0],\n",
            "        [1, 1, 1,  ..., 1, 1, 1],\n",
            "        [1, 1, 1,  ..., 0, 0, 0]])}, tensor([0, 0, 1, 0, 1, 1, 0, 0, 1, 0, 1, 1, 1, 1, 1, 0, 1, 0, 1, 0, 0, 0, 0, 0,\n",
            "        1, 0, 1, 1, 0, 0, 0, 1, 0, 1, 0, 1, 0, 1, 0, 1, 0, 1, 1, 0, 0, 1, 1, 1,\n",
            "        1, 1, 1, 1, 0, 0, 0, 1, 1, 1, 1, 1, 1, 1, 1, 0]))\n",
            "[torch.Size([30]), torch.Size([30]), torch.Size([30]), torch.Size([30]), torch.Size([30]), torch.Size([30]), torch.Size([30]), torch.Size([30]), torch.Size([30]), torch.Size([30]), torch.Size([30]), torch.Size([30]), torch.Size([30]), torch.Size([30]), torch.Size([30]), torch.Size([30]), torch.Size([30]), torch.Size([30]), torch.Size([30]), torch.Size([30]), torch.Size([30]), torch.Size([30]), torch.Size([30]), torch.Size([30]), torch.Size([30]), torch.Size([30]), torch.Size([30]), torch.Size([30]), torch.Size([30]), torch.Size([30]), torch.Size([30]), torch.Size([30]), torch.Size([30]), torch.Size([30]), torch.Size([30]), torch.Size([30]), torch.Size([30]), torch.Size([30]), torch.Size([30]), torch.Size([30]), torch.Size([30]), torch.Size([30]), torch.Size([30]), torch.Size([30]), torch.Size([30]), torch.Size([30]), torch.Size([30]), torch.Size([30]), torch.Size([30]), torch.Size([30]), torch.Size([30]), torch.Size([30]), torch.Size([30]), torch.Size([30]), torch.Size([30]), torch.Size([30]), torch.Size([30]), torch.Size([30]), torch.Size([30]), torch.Size([30]), torch.Size([30]), torch.Size([30]), torch.Size([30]), torch.Size([30])]\n"
          ]
        }
      ],
      "source": [
        "# Print a random sample from the train_loader to confirm correct loading and tokenization\n",
        "sample = next(iter(train_loader))\n",
        "print(sample)\n",
        "print([samples.size() for samples in sample[0]['input_ids']])\n"
      ]
    },
    {
      "cell_type": "code",
      "execution_count": 5,
      "metadata": {
        "id": "8jRs7uiloJ61"
      },
      "outputs": [],
      "source": [
        "# Recurrent neural network with LSTM (many-to-one) for sequence classification to produce a binary output\n",
        "## The network includes an Embedding layer, an LSTM layer and a Linear layer\n",
        "class RNN_LSTM(nn.Module):\n",
        "    def __init__(self, input_size, embedding_size, hidden_size, num_layers, num_classes, dropout):\n",
        "        super(RNN_LSTM, self).__init__()\n",
        "        self.hidden_size = hidden_size\n",
        "        self.num_layers = num_layers\n",
        "        self.embedding = nn.Embedding(input_size, embedding_size)\n",
        "        self.lstm = nn.LSTM(embedding_size, hidden_size, num_layers, batch_first=True, dropout=dropout)\n",
        "        self.fc = nn.Linear(hidden_size, num_classes)\n",
        "        self.dropout = nn.Dropout(dropout)\n",
        "\n",
        "    def forward(self, x):\n",
        "        # x: (batch_size, max_seq_length)\n",
        "        embedding = self.dropout(self.embedding(x))\n",
        "        # embedding shape: (batch_size, max_seq_length, embedding_size)\n",
        "        output, (h_n, c_n) = self.lstm(embedding)\n",
        "        # output shape: (batch_size, max_seq_length, hidden_size)\n",
        "        # h_n shape: (num_layers, batch_size, hidden_size)\n",
        "        out = self.fc(h_n[-1, :, :])\n",
        "        # out shape: (batch_size, num_classes)\n",
        "        return out"
      ]
    },
    {
      "cell_type": "code",
      "execution_count": 6,
      "metadata": {
        "colab": {
          "base_uri": "https://localhost:8080/",
          "height": 211
        },
        "id": "DeAjrczCwO91",
        "outputId": "afb29aa9-cca9-438e-a7da-42ec64d30b80"
      },
      "outputs": [
        {
          "name": "stdout",
          "output_type": "stream",
          "text": [
            "RNN_LSTM Training\n"
          ]
        },
        {
          "name": "stderr",
          "output_type": "stream",
          "text": [
            "  0%|          | 0/4 [00:00<?, ?it/s]"
          ]
        },
        {
          "name": "stderr",
          "output_type": "stream",
          "text": [
            "                                                                       \r"
          ]
        }
      ],
      "source": [
        "# Set device\n",
        "device = torch.device(\"cuda\" if torch.cuda.is_available() else \"cpu\")\n",
        "\n",
        "# Set the hyperparameters for the LSTM model\n",
        "input_size = tokenizer.vocab_size\n",
        "embedding_size = 128\n",
        "hidden_size = 256\n",
        "num_layers = 2\n",
        "num_classes = 2\n",
        "dropout = 0.5\n",
        "learning_rate = 0.003\n",
        "num_epochs = 10\n",
        "\n",
        "\n",
        "# init model\n",
        "model_LSTM = RNN_LSTM(input_size, embedding_size, hidden_size, num_layers, num_classes, dropout).to(device)\n",
        "criterion = nn.CrossEntropyLoss()\n",
        "optimizer_LSTM = optim.Adam(model_LSTM.parameters(), lr=learning_rate)\n",
        "\n",
        "# RNN_LSTM\n",
        "print('RNN_LSTM Training')\n",
        "for epoch in range(num_epochs):\n",
        "    model_LSTM.train()\n",
        "    loop = tqdm(enumerate(train_loader), total=len(train_loader), leave=False)\n",
        "    for batch_idx, (data, targets) in loop:\n",
        "        data = {key: value.to(device) for key, value in data.items()}\n",
        "        targets = targets.to(device)\n",
        "\n",
        "        # forward\n",
        "        scores = model_LSTM(data['input_ids'])\n",
        "        loss = criterion(scores, targets)\n",
        "\n",
        "        # backward\n",
        "        optimizer_LSTM.zero_grad()\n",
        "        loss.backward()\n",
        "\n",
        "        # gradient descent or adam step\n",
        "        optimizer_LSTM.step()\n",
        "\n",
        "        # update progress bar\n",
        "        loop.set_description(f'Epoch [{epoch}/{num_epochs}]')\n",
        "        loop.set_postfix(loss=loss.item())"
      ]
    },
    {
      "cell_type": "code",
      "execution_count": 7,
      "metadata": {
        "id": "MwLH9vQqwuA9"
      },
      "outputs": [
        {
          "ename": "ModuleNotFoundError",
          "evalue": "No module named 'sklearn'",
          "output_type": "error",
          "traceback": [
            "\u001b[1;31m---------------------------------------------------------------------------\u001b[0m",
            "\u001b[1;31mModuleNotFoundError\u001b[0m                       Traceback (most recent call last)",
            "Cell \u001b[1;32mIn[7], line 1\u001b[0m\n\u001b[1;32m----> 1\u001b[0m \u001b[38;5;28;01mfrom\u001b[39;00m \u001b[38;5;21;01msklearn\u001b[39;00m\u001b[38;5;21;01m.\u001b[39;00m\u001b[38;5;21;01mmetrics\u001b[39;00m \u001b[38;5;28;01mimport\u001b[39;00m confusion_matrix, classification_report\n\u001b[0;32m      2\u001b[0m \u001b[38;5;28;01mfrom\u001b[39;00m \u001b[38;5;21;01msklearn\u001b[39;00m\u001b[38;5;21;01m.\u001b[39;00m\u001b[38;5;21;01mmetrics\u001b[39;00m \u001b[38;5;28;01mimport\u001b[39;00m accuracy_score, precision_score, recall_score, f1_score\n\u001b[0;32m      4\u001b[0m \u001b[38;5;66;03m# Store all the predictions in model_predictions and the actual labels in actual_labels\u001b[39;00m\n",
            "\u001b[1;31mModuleNotFoundError\u001b[0m: No module named 'sklearn'"
          ]
        }
      ],
      "source": [
        "from sklearn.metrics import confusion_matrix, classification_report\n",
        "from sklearn.metrics import accuracy_score, precision_score, recall_score, f1_score\n",
        "\n",
        "# Store all the predictions in model_predictions and the actual labels in actual_labels\n",
        "original_comments = []\n",
        "tokens = []\n",
        "model_predictions = []\n",
        "actual_labels = []\n",
        "\n",
        "# Validation\n",
        "def check_accuracy(loader, model):\n",
        "    num_correct = 0\n",
        "    num_samples = 0\n",
        "    predictions = []\n",
        "    targets = []\n",
        "    model.eval()\n",
        "\n",
        "    with torch.no_grad():\n",
        "        for data, target in loader:\n",
        "            data = {key: value.to(device) for key, value in data.items()}\n",
        "            target = target.to(device)\n",
        "\n",
        "            scores = model(data['input_ids'])\n",
        "            _, predicted = scores.max(1)\n",
        "            # Store decoded original comments, model predictions and actual labels \n",
        "            original_comments.extend([tokenizer.decode(data['input_ids'][i]) for i in range(len(data['input_ids']))])\n",
        "            tokens.extend(data['input_ids'])\n",
        "            model_predictions.extend(predicted)\n",
        "            actual_labels.extend(target)\n",
        "            num_correct += (predicted == target).sum()\n",
        "            num_samples += predicted.size(0)\n",
        "\n",
        "            predictions.extend(predicted.tolist())\n",
        "            targets.extend(target.tolist())\n",
        "\n",
        "    # model.train()\n",
        "    accuracy = num_correct/num_samples\n",
        "    return accuracy, predictions, targets\n"
      ]
    },
    {
      "cell_type": "code",
      "execution_count": null,
      "metadata": {},
      "outputs": [
        {
          "name": "stdout",
          "output_type": "stream",
          "text": [
            "Train accuracy: 0.9439527988433838\n",
            "Validation accuracy: 0.8493150472640991\n",
            "Test accuracy: 0.8082191944122314\n",
            "Comment: [CLS] i still remember when this song came out i was one of those who clicked first and there were only 10 views [UNK] < br > yes im [SEP]\n",
            "Tokens: tensor([  101,  1045,  2145,  3342,  2043,  2023,  2299,  2234,  2041,  1045,\n",
            "         2001,  2028,  1997,  2216,  2040, 13886,  2034,  1998,  2045,  2020,\n",
            "         2069,  2184,  5328,   100,  1026,  7987,  1028,  2748, 10047,   102])\n",
            "Prediction: 0\n",
            "Actual: 0\n",
            "\n",
            "Comment: [CLS] okay it ’ s time to be honest. when this came out i was homeless, on drugs, and then jail. now i have a [SEP]\n",
            "Tokens: tensor([  101,  3100,  2009,  1521,  1055,  2051,  2000,  2022,  7481,  1012,\n",
            "         2043,  2023,  2234,  2041,  1045,  2001, 11573,  1010,  2006,  5850,\n",
            "         1010,  1998,  2059,  7173,  1012,  2085,  1045,  2031,  1037,   102])\n",
            "Prediction: 1\n",
            "Actual: 1\n",
            "\n",
            "Comment: [CLS] 100 % not racist even she could be saying that black people ar better at tweaking, lolz burn [SEP] [PAD] [PAD] [PAD] [PAD] [PAD] [PAD]\n",
            "Tokens: tensor([  101,  2531,  1003,  2025, 16939,  2130,  2016,  2071,  2022,  3038,\n",
            "         2008,  2304,  2111, 12098,  2488,  2012,  1056,  8545, 15495,  1010,\n",
            "         8840, 23858,  6402,   102,     0,     0,     0,     0,     0,     0])\n",
            "Prediction: 0\n",
            "Actual: 0\n",
            "\n",
            "Comment: [CLS] [UNK] thank you so much, guys, for helping me reach 809k subscribers! [UNK] i really appreciate all your support! [UNK] sending lots [SEP]\n",
            "Tokens: tensor([  101,   100,  4067,  2017,  2061,  2172,  1010,  4364,  1010,  2005,\n",
            "         5094,  2033,  3362,  3770,  2683,  2243, 17073,   999,   100,  1045,\n",
            "         2428,  9120,  2035,  2115,  2490,   999,   100,  6016,  7167,   102])\n",
            "Prediction: 1\n",
            "Actual: 1\n",
            "\n",
            "Comment: [CLS] dammn those haterss why dislike this so cool u know hmmmmm how rudee and in first place why did u even [SEP]\n",
            "Tokens: tensor([  101,  5477,  2213,  2078,  2216,  5223,  2869,  2015,  2339, 18959,\n",
            "         2023,  2061,  4658,  1057,  2113, 17012,  7382,  2213,  2129, 12726,\n",
            "         2063,  1998,  1999,  2034,  2173,  2339,  2106,  1057,  2130,   102])\n",
            "Prediction: 0\n",
            "Actual: 0\n",
            "\n"
          ]
        }
      ],
      "source": [
        "train_acc, train_preds, train_targets = check_accuracy(train_loader, model_LSTM)\n",
        "val_acc, val_preds, val_targets = check_accuracy(val_loader, model_LSTM)\n",
        "test_acc, test_preds, test_targets = check_accuracy(test_loader, model_LSTM)\n",
        "\n",
        "print(f'Train accuracy: {train_acc}')\n",
        "print(f'Validation accuracy: {val_acc}')\n",
        "print(f'Test accuracy: {test_acc}')\n",
        "\n",
        "train_cm = confusion_matrix(train_targets, train_preds)\n",
        "val_cm = confusion_matrix(val_targets, val_preds)\n",
        "test_cm = confusion_matrix(test_targets, test_preds)\n",
        "\n",
        "print(f'Train Confusion Matrix:\\n{train_cm}')\n",
        "print(f'Validation Confusion Matrix:\\n{val_cm}')\n",
        "print(f'Test Confusion Matrix:\\n{test_cm}')\n",
        "\n",
        "# Classification report\n",
        "train_report = classification_report(train_targets, train_preds)\n",
        "val_report = classification_report(val_targets, val_preds)\n",
        "test_report = classification_report(test_targets, test_preds)\n",
        "\n",
        "print(f'Train Classification Report:\\n{train_report}')\n",
        "print(f'Validation Classification Report:\\n{val_report}')\n",
        "print(f'Test Classification Report:\\n{test_report}')\n",
        "\n",
        "# F1 Score, Recall, Precision\n",
        "# train_f1 = f1_score(train_targets, train_preds)\n",
        "# val_f1 = f1_score(val_targets, val_preds)\n",
        "# test_f1 = f1_score(test_targets, test_preds)\n",
        "\n",
        "# train_recall = recall_score(train_targets, train_preds)\n",
        "# val_recall = recall_score(val_targets, val_preds)\n",
        "# test_recall = recall_score(test_targets, test_preds)\n",
        "\n",
        "# train_precision = precision_score(train_targets, train_preds)\n",
        "# val_precision = precision_score(val_targets, val_preds)\n",
        "# test_precision = precision_score(test_targets, test_preds)\n",
        "\n",
        "# print(f'Train F1 Score: {train_f1}')\n",
        "# print(f'Validation F1 Score: {val_f1}')\n",
        "# print(f'Test F1 Score: {test_f1}')\n",
        "\n",
        "# print(f'Train Recall: {train_recall}')\n",
        "#print(f'Validation Recall: {val_recall}')\n",
        "# print(f'Test Recall: {test_recall}')\n",
        "\n",
        "# print(f'Train Precision: {train_precision}')\n",
        "# print(f'Validation Precision: {val_precision}')\n",
        "# print(f'Test Precision: {test_precision}')\n",
        "\n",
        "# Check accuracy on training & validation to see how good our model\n",
        "# train_acc = check_accuracy(train_loader, model_LSTM)\n",
        "# val_acc = check_accuracy(val_loader, model_LSTM)\n",
        "# print(f'Train accuracy: {train_acc}')\n",
        "# print(f'Validation accuracy: {val_acc}')\n",
        "# print(f'Test accuracy: {check_accuracy(test_loader, model_LSTM)}')\n",
        "\n",
        "# Print the original comments, model predictions and actual labels\n",
        "for i in range(5):\n",
        "    print(f'Comment: {original_comments[i]}')\n",
        "    print(f'Tokens: {tokens[i]}')\n",
        "    print(f'Prediction: {model_predictions[i]}')\n",
        "    print(f'Actual: {actual_labels[i]}')\n",
        "    print('')\n"
      ]
    }
  ],
  "metadata": {
    "accelerator": "GPU",
    "colab": {
      "gpuType": "T4",
      "provenance": []
    },
    "kernelspec": {
      "display_name": "Python 3",
      "name": "python3"
    },
    "language_info": {
      "codemirror_mode": {
        "name": "ipython",
        "version": 3
      },
      "file_extension": ".py",
      "mimetype": "text/x-python",
      "name": "python",
      "nbconvert_exporter": "python",
      "pygments_lexer": "ipython3",
      "version": "3.10.6"
    }
  },
  "nbformat": 4,
  "nbformat_minor": 0
}
