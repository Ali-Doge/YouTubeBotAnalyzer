{
  "cells": [
    {
      "cell_type": "code",
      "execution_count": 45,
      "metadata": {
        "id": "7bXzjaYEYs-q"
      },
      "outputs": [],
      "source": [
        "import numpy as np\n",
        "import matplotlib.pyplot as plt\n",
        "import torch\n",
        "import torch.nn as nn  # All neural network modules, nn.Linear, nn.Conv2d, BatchNorm, Loss functions\n",
        "import torch.optim as optim  # For all Optimization algorithms, SGD, Adam, etc.\n",
        "import torch.nn.functional as F  # All functions that don't have any parameters\n",
        "from torch.utils.data import (DataLoader,)  # Gives easier dataset managment and creates mini batches\n",
        "#import torchvision  # torch package for vision related things\n",
        "#import torchvision.datasets as datasets  # Has standard datasets we can import in a nice way\n",
        "#import torchvision.transforms as transforms\n",
        "import pandas as pd\n",
        "import random\n",
        "from tqdm.auto import tqdm\n",
        "from transformers import DistilBertTokenizer"
      ]
    },
    {
      "cell_type": "code",
      "execution_count": 46,
      "metadata": {
        "colab": {
          "base_uri": "https://localhost:8080/"
        },
        "id": "M6j6OhmvY3GA",
        "outputId": "ed60e5af-bb9f-454f-eb78-5c646900d221"
      },
      "outputs": [],
      "source": [
        "# Run when executing on Google Colab\n",
        "#from google.colab import drive\n",
        "#drive.mount('/content/drive')\n",
        "\n",
        "#!cp \"/content/drive/MyDrive/Colab Notebooks/Deep Learning/DeepLProject/SpamDataset.zip\" \"./SpamDataset.zip\"\n",
        "#!unzip SpamDataset.zip"
      ]
    },
    {
      "cell_type": "code",
      "execution_count": 47,
      "metadata": {
        "id": "RpnrwlrtZwYH"
      },
      "outputs": [],
      "source": [
        "# Split the downloaded Youtube01-Psy.csv file into train, validation and test sets\n",
        "data = pd.read_csv('SpamDataset/Youtube01-Psy.csv')\n",
        "data = data.sample(frac=1).reset_index(drop=True)  # Shuffle the data\n",
        "train_data = data[:int(0.7*len(data))]\n",
        "val_data = data[int(0.7*len(data)):int(0.85*len(data))]\n",
        "test_data = data[int(0.85*len(data)):]\n",
        "\n",
        "# Tokenize the data using distillbert\n",
        "tokenizer = DistilBertTokenizer.from_pretrained('distilbert-base-uncased')\n",
        "\n",
        "# Turn pd dataframe into a tokenized PyTorch dataset that DataLoader can use via the SpamDataset class\n",
        "class SpamDataset(torch.utils.data.Dataset):\n",
        "    def __init__(self, data):\n",
        "        self.data = data\n",
        "\n",
        "    def __len__(self):\n",
        "        return len(self.data)\n",
        "\n",
        "    def __getitem__(self, idx):\n",
        "        row = self.data.iloc[idx]\n",
        "        comment_tokens = row['CONTENT']\n",
        "        label = row['CLASS']\n",
        "        return comment_tokens, label\n",
        "    \n",
        "    def collate_fn(self, batch):\n",
        "        comments = [row[0] for row in batch]\n",
        "        labels = [row[1] for row in batch]\n",
        "        tokens = tokenizer.batch_encode_plus(comments, pad_to_max_length=True, return_tensors='pt')\n",
        "        return tokens, torch.tensor(labels)\n",
        "    \n",
        "train_dataset = SpamDataset(train_data)\n",
        "val_dataset = SpamDataset(val_data)\n",
        "test_dataset = SpamDataset(test_data)\n",
        "\n",
        "\n",
        "# Load Data\n",
        "batch_size = 64\n",
        "train_loader = DataLoader(dataset=train_dataset, batch_size=batch_size, shuffle=True)\n",
        "val_loader = DataLoader(dataset=val_dataset, batch_size=batch_size, shuffle=True)\n",
        "test_loader = DataLoader(dataset=test_dataset, batch_size=batch_size, shuffle=True)"
      ]
    },
    {
      "cell_type": "code",
      "execution_count": 51,
      "metadata": {},
      "outputs": [
        {
          "name": "stdout",
          "output_type": "stream",
          "text": [
            "How did THIS Video in all of YouTube get this many views and likes? Why  Gangnam style? I don't have a problem with it, i just don't understand the  phenomena behind it, it's just like any other random music video out  there. ﻿\n"
          ]
        }
      ],
      "source": [
        "# Random pick a sample to view the comment\n",
        "print(train_loader.dataset.data.iloc[random.randint(0,len(train_data)-1)]['CONTENT'])"
      ]
    },
    {
      "cell_type": "code",
      "execution_count": 49,
      "metadata": {
        "id": "8jRs7uiloJ61"
      },
      "outputs": [],
      "source": [
        "# Recurrent neural network with LSTM (many-to-one)\n",
        "class RNN_LSTM(nn.Module):\n",
        "    def __init__(self, input_size, hidden_size, num_layers, num_classes, sequence_length):\n",
        "        super(RNN_LSTM, self).__init__()\n",
        "        self.hidden_size = hidden_size\n",
        "        self.num_layers = num_layers\n",
        "        self.lstm = nn.LSTM(input_size, hidden_size, num_layers, batch_first=True)  \n",
        "        self.fc = nn.Linear(hidden_size * sequence_length, num_classes)     \n",
        "\n",
        "    def forward(self, x, device):\n",
        "        # Set initial hidden and cell states\n",
        "        h0 = torch.zeros(self.num_layers, x.size(0), self.hidden_size).to(device)\n",
        "        c0 = torch.zeros(self.num_layers, x.size(0), self.hidden_size).to(device)\n",
        "\n",
        "        # Forward propagate LSTM\n",
        "        out, _ = self.lstm(\n",
        "            x, (h0, c0)\n",
        "        )  \n",
        "        out = out.reshape(out.shape[0], -1)\n",
        "\n",
        "        # Decode the hidden state of the last time step\n",
        "        out = self.fc(out) \n",
        "        return out"
      ]
    },
    {
      "cell_type": "code",
      "execution_count": 50,
      "metadata": {
        "colab": {
          "base_uri": "https://localhost:8080/",
          "height": 211
        },
        "id": "DeAjrczCwO91",
        "outputId": "afb29aa9-cca9-438e-a7da-42ec64d30b80"
      },
      "outputs": [
        {
          "ename": "TypeError",
          "evalue": "RNN_LSTM.__init__() missing 1 required positional argument: 'sequence_length'",
          "output_type": "error",
          "traceback": [
            "\u001b[1;31m---------------------------------------------------------------------------\u001b[0m",
            "\u001b[1;31mTypeError\u001b[0m                                 Traceback (most recent call last)",
            "Cell \u001b[1;32mIn[50], line 19\u001b[0m\n\u001b[0;32m     16\u001b[0m test_loader \u001b[38;5;241m=\u001b[39m DataLoader(dataset\u001b[38;5;241m=\u001b[39mtest_dataset, batch_size\u001b[38;5;241m=\u001b[39mbatch_size, shuffle\u001b[38;5;241m=\u001b[39m\u001b[38;5;28;01mTrue\u001b[39;00m)\n\u001b[0;32m     18\u001b[0m \u001b[38;5;66;03m# init model\u001b[39;00m\n\u001b[1;32m---> 19\u001b[0m model_LSTM \u001b[38;5;241m=\u001b[39m RNN_LSTM(input_size, hidden_size, num_layers, num_classes)\u001b[38;5;241m.\u001b[39mto(device)\n\u001b[0;32m     20\u001b[0m criterion \u001b[38;5;241m=\u001b[39m nn\u001b[38;5;241m.\u001b[39mCrossEntropyLoss()\n\u001b[0;32m     21\u001b[0m optimizer_LSTM \u001b[38;5;241m=\u001b[39m optim\u001b[38;5;241m.\u001b[39mAdam(model_LSTM\u001b[38;5;241m.\u001b[39mparameters(), lr\u001b[38;5;241m=\u001b[39mlearning_rate)\n",
            "\u001b[1;31mTypeError\u001b[0m: RNN_LSTM.__init__() missing 1 required positional argument: 'sequence_length'"
          ]
        }
      ],
      "source": [
        "# Set device\n",
        "device = torch.device(\"cuda\" if torch.cuda.is_available() else \"cpu\")\n",
        "\n",
        "# Hyperparameters\n",
        "input_size = 28\n",
        "hidden_size = 256\n",
        "num_layers = 3\n",
        "num_classes = 10\n",
        "sequence_length = 28\n",
        "learning_rate = 0.005\n",
        "batch_size = 64\n",
        "num_epochs = 3\n",
        "\n",
        "# Load Data\n",
        "train_loader = DataLoader(dataset=train_dataset, batch_size=batch_size, shuffle=True)\n",
        "test_loader = DataLoader(dataset=test_dataset, batch_size=batch_size, shuffle=True)\n",
        "\n",
        "# init model\n",
        "model_LSTM = RNN_LSTM(input_size, hidden_size, num_layers, num_classes).to(device)\n",
        "criterion = nn.CrossEntropyLoss()\n",
        "optimizer_LSTM = optim.Adam(model_LSTM.parameters(), lr=learning_rate)\n",
        "\n",
        "# RNN_LSTM\n",
        "print('RNN_LSTM Training')\n",
        "for epoch in range(num_epochs):\n",
        "    for batch_idx, (data, targets) in enumerate(tqdm(train_loader)):\n",
        "        # 4pt TODO: Use the example from the GRU training above to complete the LSTM training\n",
        "        # Get data to cuda if possible\n",
        "        data = data.to(device=device).squeeze(1)\n",
        "        targets = targets.to(device=device)\n",
        "\n",
        "        # forward\n",
        "        scores_LSTM = model_LSTM(data)\n",
        "        loss_LSTM = criterion(scores_LSTM, targets)\n",
        "\n",
        "        # backward\n",
        "        optimizer_LSTM.zero_grad()\n",
        "        loss_LSTM.backward()\n",
        "\n",
        "        # gradient descent update step/adam step\n",
        "        optimizer_LSTM.step()"
      ]
    },
    {
      "cell_type": "code",
      "execution_count": null,
      "metadata": {
        "id": "MwLH9vQqwuA9"
      },
      "outputs": [],
      "source": []
    }
  ],
  "metadata": {
    "accelerator": "GPU",
    "colab": {
      "gpuType": "T4",
      "provenance": []
    },
    "kernelspec": {
      "display_name": "Python 3",
      "name": "python3"
    },
    "language_info": {
      "codemirror_mode": {
        "name": "ipython",
        "version": 3
      },
      "file_extension": ".py",
      "mimetype": "text/x-python",
      "name": "python",
      "nbconvert_exporter": "python",
      "pygments_lexer": "ipython3",
      "version": "3.11.7"
    }
  },
  "nbformat": 4,
  "nbformat_minor": 0
}
