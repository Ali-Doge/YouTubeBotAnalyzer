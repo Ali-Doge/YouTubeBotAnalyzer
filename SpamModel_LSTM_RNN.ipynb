{
  "cells": [
    {
      "cell_type": "code",
      "execution_count": 4,
      "metadata": {
        "id": "7bXzjaYEYs-q"
      },
      "outputs": [],
      "source": [
        "import numpy as np\n",
        "import matplotlib.pyplot as plt\n",
        "import torch\n",
        "import torch.nn as nn  # All neural network modules, nn.Linear, nn.Conv2d, BatchNorm, Loss functions\n",
        "import torch.optim as optim  # For all Optimization algorithms, SGD, Adam, etc.\n",
        "import torch.nn.functional as F  # All functions that don't have any parameters\n",
        "from torch.utils.data import (DataLoader,)  # Gives easier dataset managment and creates mini batches\n",
        "#import torchvision  # torch package for vision related things\n",
        "#import torchvision.datasets as datasets  # Has standard datasets we can import in a nice way\n",
        "#import torchvision.transforms as transforms\n",
        "import pandas as pd\n",
        "import random\n",
        "from sklearn.metrics import confusion_matrix, classification_report\n",
        "from sklearn.metrics import accuracy_score, precision_score, recall_score, f1_score\n",
        "from tqdm.auto import tqdm\n",
        "from transformers import DistilBertTokenizer"
      ]
    },
    {
      "cell_type": "code",
      "execution_count": 5,
      "metadata": {
        "colab": {
          "base_uri": "https://localhost:8080/"
        },
        "id": "M6j6OhmvY3GA",
        "outputId": "ed60e5af-bb9f-454f-eb78-5c646900d221"
      },
      "outputs": [],
      "source": [
        "# Run when executing on Google Colab\n",
        "#from google.colab import drive\n",
        "#drive.mount('/content/drive')\n",
        "\n",
        "#!cp \"/content/drive/MyDrive/Colab Notebooks/Deep Learning/DeepLProject/SpamDataset.zip\" \"./SpamDataset.zip\"\n",
        "#!unzip SpamDataset.zip"
      ]
    },
    {
      "cell_type": "code",
      "execution_count": 6,
      "metadata": {
        "id": "RpnrwlrtZwYH"
      },
      "outputs": [],
      "source": [
        "# Split the downloaded Youtube01-Psy.csv file into train, validation and test sets\n",
        "data = pd.read_csv('SpamDataset/Youtube01-Psy.csv')\n",
        "# data = pd.read_csv('TSwift_ShakeItOff_Spam.csv')\n",
        "data = data.sample(frac=1).reset_index(drop=True)  # Shuffle the data\n",
        "train_data = data[:int(0.7*len(data))]\n",
        "val_data = data[int(0.7*len(data)):int(0.85*len(data))]\n",
        "test_data = data[int(0.85*len(data)):]\n",
        "\n",
        "# Tokenize the data using distillbert\n",
        "tokenizer = DistilBertTokenizer.from_pretrained('distilbert-base-uncased')\n",
        "\n",
        "# Turn pd dataframe into a tokenized PyTorch dataset that DataLoader can use via the SpamDataset class\n",
        "class SpamDataset(torch.utils.data.Dataset):\n",
        "    def __init__(self, data):\n",
        "        self.data = data\n",
        "\n",
        "    def __len__(self):\n",
        "        return len(self.data)\n",
        "\n",
        "    def __getitem__(self, idx):\n",
        "        row = self.data.iloc[idx]\n",
        "        comment_tokens = row['CONTENT']\n",
        "        label = row['CLASS']\n",
        "        return comment_tokens, label\n",
        "    \n",
        "    def collate_fn(self, batch):\n",
        "        comments = [row[0] for row in batch]\n",
        "        labels = [row[1] for row in batch]\n",
        "        tokens = tokenizer.batch_encode_plus(comments, truncation=True, padding='max_length', max_length=30, return_tensors='pt')\n",
        "        return tokens, torch.tensor(labels)\n",
        "    \n",
        "train_dataset = SpamDataset(train_data)\n",
        "val_dataset = SpamDataset(val_data)\n",
        "test_dataset = SpamDataset(test_data)\n",
        "\n",
        "\n",
        "# Load Data and collate it\n",
        "batch_size = 64\n",
        "train_loader = DataLoader(train_dataset, batch_size=batch_size, shuffle=True, collate_fn=train_dataset.collate_fn)\n",
        "val_loader = DataLoader(val_dataset, batch_size=batch_size, shuffle=False, collate_fn=val_dataset.collate_fn)\n",
        "test_loader = DataLoader(test_dataset, batch_size=batch_size, shuffle=False, collate_fn=test_dataset.collate_fn)"
      ]
    },
    {
      "cell_type": "code",
      "execution_count": 7,
      "metadata": {},
      "outputs": [
        {
          "name": "stdout",
          "output_type": "stream",
          "text": [
            "({'input_ids': tensor([[  101,  2054,  2489,  ...,  7558, 16576,   102],\n",
            "        [  101,  2065,  1996,  ...,     0,     0,     0],\n",
            "        [  101,  4942, 29234,  ...,     0,     0,     0],\n",
            "        ...,\n",
            "        [  101,  2085,  2049,  ...,   102,     0,     0],\n",
            "        [  101,   100,  2296,  ...,     0,     0,     0],\n",
            "        [  101, 22399,  3531,  ...,     0,     0,     0]]), 'attention_mask': tensor([[1, 1, 1,  ..., 1, 1, 1],\n",
            "        [1, 1, 1,  ..., 0, 0, 0],\n",
            "        [1, 1, 1,  ..., 0, 0, 0],\n",
            "        ...,\n",
            "        [1, 1, 1,  ..., 1, 0, 0],\n",
            "        [1, 1, 1,  ..., 0, 0, 0],\n",
            "        [1, 1, 1,  ..., 0, 0, 0]])}, tensor([1, 0, 1, 1, 1, 1, 1, 0, 1, 0, 1, 0, 1, 1, 0, 1, 1, 0, 0, 0, 0, 0, 1, 1,\n",
            "        1, 0, 1, 0, 1, 0, 1, 1, 0, 0, 1, 1, 1, 1, 1, 1, 1, 1, 1, 1, 1, 1, 1, 1,\n",
            "        0, 0, 0, 1, 1, 0, 0, 1, 0, 0, 0, 1, 1, 0, 0, 1]))\n",
            "[torch.Size([30]), torch.Size([30]), torch.Size([30]), torch.Size([30]), torch.Size([30]), torch.Size([30]), torch.Size([30]), torch.Size([30]), torch.Size([30]), torch.Size([30]), torch.Size([30]), torch.Size([30]), torch.Size([30]), torch.Size([30]), torch.Size([30]), torch.Size([30]), torch.Size([30]), torch.Size([30]), torch.Size([30]), torch.Size([30]), torch.Size([30]), torch.Size([30]), torch.Size([30]), torch.Size([30]), torch.Size([30]), torch.Size([30]), torch.Size([30]), torch.Size([30]), torch.Size([30]), torch.Size([30]), torch.Size([30]), torch.Size([30]), torch.Size([30]), torch.Size([30]), torch.Size([30]), torch.Size([30]), torch.Size([30]), torch.Size([30]), torch.Size([30]), torch.Size([30]), torch.Size([30]), torch.Size([30]), torch.Size([30]), torch.Size([30]), torch.Size([30]), torch.Size([30]), torch.Size([30]), torch.Size([30]), torch.Size([30]), torch.Size([30]), torch.Size([30]), torch.Size([30]), torch.Size([30]), torch.Size([30]), torch.Size([30]), torch.Size([30]), torch.Size([30]), torch.Size([30]), torch.Size([30]), torch.Size([30]), torch.Size([30]), torch.Size([30]), torch.Size([30]), torch.Size([30])]\n"
          ]
        }
      ],
      "source": [
        "# Print a random sample from the train_loader to confirm correct loading and tokenization\n",
        "sample = next(iter(train_loader))\n",
        "print(sample)\n",
        "print([samples.size() for samples in sample[0]['input_ids']])\n"
      ]
    },
    {
      "cell_type": "markdown",
      "metadata": {},
      "source": [
        "# Models\n",
        "Create all different Models that we are testing. Most have LSTMs in common, but 2 add improvements"
      ]
    },
    {
      "cell_type": "code",
      "execution_count": 8,
      "metadata": {
        "id": "8jRs7uiloJ61"
      },
      "outputs": [],
      "source": [
        "# Recurrent neural network with LSTM (many-to-one) for sequence classification to produce a binary output\n",
        "## The network includes an Embedding layer, an LSTM layer and a Linear layer\n",
        "class RNN_LSTM(nn.Module):\n",
        "    def __init__(self, input_size, embedding_size, hidden_size, num_layers, num_classes, dropout):\n",
        "        super(RNN_LSTM, self).__init__()\n",
        "        self.hidden_size = hidden_size\n",
        "        self.num_layers = num_layers\n",
        "        self.embedding = nn.Embedding(input_size, embedding_size)\n",
        "        self.lstm = nn.LSTM(embedding_size, hidden_size, num_layers, batch_first=True, dropout=dropout)\n",
        "        self.fc = nn.Linear(hidden_size, num_classes)\n",
        "        self.dropout = nn.Dropout(dropout)\n",
        "\n",
        "    def forward(self, x):\n",
        "        # x: (batch_size, max_seq_length)\n",
        "        embedding = self.dropout(self.embedding(x))\n",
        "        # embedding shape: (batch_size, max_seq_length, embedding_size)\n",
        "        output, (h_n, c_n) = self.lstm(embedding)\n",
        "        # output shape: (batch_size, max_seq_length, hidden_size)\n",
        "        # h_n shape: (num_layers, batch_size, hidden_size)\n",
        "        out = self.fc(h_n[-1, :, :])\n",
        "        # out shape: (batch_size, num_classes)\n",
        "        return out\n",
        "    \n",
        "# Bidirectional LSTM network for sequence classification to produce a binary output\n",
        "## The network includes an Embedding layer, a Bidirectional LSTM layer and a Linear layer\n",
        "class BiLSTM(nn.Module):\n",
        "    def __init__(self, input_size, embedding_size, hidden_size, num_layers, num_classes, dropout):\n",
        "        super(BiLSTM, self).__init__()\n",
        "        self.hidden_size = hidden_size\n",
        "        self.num_layers = num_layers\n",
        "        self.embedding = nn.Embedding(input_size, embedding_size)\n",
        "        self.dropout = nn.Dropout(dropout)\n",
        "        self.lstm = nn.LSTM(embedding_size, hidden_size, num_layers, batch_first=True, dropout=dropout, bidirectional=True)\n",
        "        self.fc = nn.Linear(hidden_size*2, num_classes)\n",
        "        \n",
        "\n",
        "    def forward(self, x):\n",
        "        # x: (batch_size, max_seq_length)\n",
        "        embedding = self.dropout(self.embedding(x))\n",
        "        # embedding shape: (batch_size, max_seq_length, embedding_size)\n",
        "        output, (h_n, c_n) = self.lstm(embedding)\n",
        "        # output shape: (batch_size, max_seq_length, hidden_size*2)\n",
        "        # h_n shape: (num_layers*2, batch_size, hidden_size)\n",
        "        out = self.fc(torch.cat((h_n[-2, :, :], h_n[-1, :, :]), dim=1))\n",
        "        # out shape: (batch_size, num_classes)\n",
        "        return out\n",
        "\n",
        "# An Attention-LSTM network for sequence classification to produce a binary output\n",
        "## The network includes an Embedding layer, an Attention layer, an LSTM layer and a Linear layer\n",
        "class AttentionLSTM(nn.Module):\n",
        "    def __init__(self, input_size, embedding_size, hidden_size, num_layers, num_classes, dropout):\n",
        "        super(AttentionLSTM, self).__init__()\n",
        "        self.hidden_size = hidden_size\n",
        "        self.num_layers = num_layers\n",
        "        self.embedding = nn.Embedding(input_size, embedding_size)\n",
        "        self.dropout = nn.Dropout(dropout)\n",
        "        self.lstm = nn.LSTM(embedding_size, hidden_size, num_layers, batch_first=True, dropout=dropout)\n",
        "        self.attention = nn.Linear(hidden_size, 1)\n",
        "        self.fc = nn.Linear(hidden_size, num_classes)\n",
        "        \n",
        "    def forward(self, x):\n",
        "        # x: (batch_size, max_seq_length)\n",
        "        embedding = self.dropout(self.embedding(x))\n",
        "        # embedding shape: (batch_size, max_seq_length, embedding_size)\n",
        "        output, (h_n, c_n) = self.lstm(embedding)\n",
        "        # output shape: (batch_size, max_seq_length, hidden_size)\n",
        "        # h_n shape: (num_layers, batch_size, hidden_size)\n",
        "        attention_weights = F.softmax(self.attention(output), dim=1)\n",
        "        # attention_weights shape: (batch_size, max_seq_length, 1)\n",
        "        out = torch.sum(attention_weights * output, dim=1)\n",
        "        # out shape: (batch_size, hidden_size)\n",
        "        out = self.fc(out)\n",
        "        # out shape: (batch_size, num_classes)\n",
        "        return out"
      ]
    },
    {
      "cell_type": "markdown",
      "metadata": {},
      "source": [
        "# Training"
      ]
    },
    {
      "cell_type": "code",
      "execution_count": 9,
      "metadata": {
        "colab": {
          "base_uri": "https://localhost:8080/",
          "height": 211
        },
        "id": "DeAjrczCwO91",
        "outputId": "afb29aa9-cca9-438e-a7da-42ec64d30b80"
      },
      "outputs": [
        {
          "name": "stdout",
          "output_type": "stream",
          "text": [
            "RNN_LSTM Training\n"
          ]
        },
        {
          "data": {
            "application/vnd.jupyter.widget-view+json": {
              "model_id": "0a4a49118a104ef0b28485d455a24167",
              "version_major": 2,
              "version_minor": 0
            },
            "text/plain": [
              "  0%|          | 0/4 [00:00<?, ?it/s]"
            ]
          },
          "metadata": {},
          "output_type": "display_data"
        },
        {
          "data": {
            "application/vnd.jupyter.widget-view+json": {
              "model_id": "6f4618d4afa544d7a3a0b684825a3fd0",
              "version_major": 2,
              "version_minor": 0
            },
            "text/plain": [
              "  0%|          | 0/4 [00:00<?, ?it/s]"
            ]
          },
          "metadata": {},
          "output_type": "display_data"
        },
        {
          "data": {
            "application/vnd.jupyter.widget-view+json": {
              "model_id": "d0cd33e1afb743bd923151573359731c",
              "version_major": 2,
              "version_minor": 0
            },
            "text/plain": [
              "  0%|          | 0/4 [00:00<?, ?it/s]"
            ]
          },
          "metadata": {},
          "output_type": "display_data"
        },
        {
          "data": {
            "application/vnd.jupyter.widget-view+json": {
              "model_id": "88c9c79499154f2da6026c174c7e2c94",
              "version_major": 2,
              "version_minor": 0
            },
            "text/plain": [
              "  0%|          | 0/4 [00:00<?, ?it/s]"
            ]
          },
          "metadata": {},
          "output_type": "display_data"
        },
        {
          "data": {
            "application/vnd.jupyter.widget-view+json": {
              "model_id": "16a7aba483504a659b33aef441c4946a",
              "version_major": 2,
              "version_minor": 0
            },
            "text/plain": [
              "  0%|          | 0/4 [00:00<?, ?it/s]"
            ]
          },
          "metadata": {},
          "output_type": "display_data"
        },
        {
          "data": {
            "application/vnd.jupyter.widget-view+json": {
              "model_id": "2e03b4049fcc43f5aac3a96ab18108c5",
              "version_major": 2,
              "version_minor": 0
            },
            "text/plain": [
              "  0%|          | 0/4 [00:00<?, ?it/s]"
            ]
          },
          "metadata": {},
          "output_type": "display_data"
        },
        {
          "data": {
            "application/vnd.jupyter.widget-view+json": {
              "model_id": "e65b25e4186341fba16ad3a8397c67fe",
              "version_major": 2,
              "version_minor": 0
            },
            "text/plain": [
              "  0%|          | 0/4 [00:00<?, ?it/s]"
            ]
          },
          "metadata": {},
          "output_type": "display_data"
        },
        {
          "data": {
            "application/vnd.jupyter.widget-view+json": {
              "model_id": "88a77faaf7204e0386a956a60a7d1631",
              "version_major": 2,
              "version_minor": 0
            },
            "text/plain": [
              "  0%|          | 0/4 [00:00<?, ?it/s]"
            ]
          },
          "metadata": {},
          "output_type": "display_data"
        },
        {
          "data": {
            "application/vnd.jupyter.widget-view+json": {
              "model_id": "14c4fc75f0034396a0677b3b34fc2007",
              "version_major": 2,
              "version_minor": 0
            },
            "text/plain": [
              "  0%|          | 0/4 [00:00<?, ?it/s]"
            ]
          },
          "metadata": {},
          "output_type": "display_data"
        },
        {
          "data": {
            "application/vnd.jupyter.widget-view+json": {
              "model_id": "5bf5488c3115410eb79180be723538a3",
              "version_major": 2,
              "version_minor": 0
            },
            "text/plain": [
              "  0%|          | 0/4 [00:00<?, ?it/s]"
            ]
          },
          "metadata": {},
          "output_type": "display_data"
        },
        {
          "name": "stdout",
          "output_type": "stream",
          "text": [
            "BiLSTM Training\n"
          ]
        },
        {
          "data": {
            "application/vnd.jupyter.widget-view+json": {
              "model_id": "5637a2fb36ed49db9dccea90bb108854",
              "version_major": 2,
              "version_minor": 0
            },
            "text/plain": [
              "  0%|          | 0/4 [00:00<?, ?it/s]"
            ]
          },
          "metadata": {},
          "output_type": "display_data"
        },
        {
          "data": {
            "application/vnd.jupyter.widget-view+json": {
              "model_id": "d8ad171e125c47128abc3d23c614e648",
              "version_major": 2,
              "version_minor": 0
            },
            "text/plain": [
              "  0%|          | 0/4 [00:00<?, ?it/s]"
            ]
          },
          "metadata": {},
          "output_type": "display_data"
        },
        {
          "data": {
            "application/vnd.jupyter.widget-view+json": {
              "model_id": "1c8e99f8de6c490fb3fdd00a14650fdf",
              "version_major": 2,
              "version_minor": 0
            },
            "text/plain": [
              "  0%|          | 0/4 [00:00<?, ?it/s]"
            ]
          },
          "metadata": {},
          "output_type": "display_data"
        },
        {
          "data": {
            "application/vnd.jupyter.widget-view+json": {
              "model_id": "ef60e488daeb4e4b9c4b51d54819ed00",
              "version_major": 2,
              "version_minor": 0
            },
            "text/plain": [
              "  0%|          | 0/4 [00:00<?, ?it/s]"
            ]
          },
          "metadata": {},
          "output_type": "display_data"
        },
        {
          "data": {
            "application/vnd.jupyter.widget-view+json": {
              "model_id": "e4304ca912ac4ccf83e934c2e1e7ebbe",
              "version_major": 2,
              "version_minor": 0
            },
            "text/plain": [
              "  0%|          | 0/4 [00:00<?, ?it/s]"
            ]
          },
          "metadata": {},
          "output_type": "display_data"
        },
        {
          "data": {
            "application/vnd.jupyter.widget-view+json": {
              "model_id": "16bc46a7ebb14d6e95c52a40b7e5ebe1",
              "version_major": 2,
              "version_minor": 0
            },
            "text/plain": [
              "  0%|          | 0/4 [00:00<?, ?it/s]"
            ]
          },
          "metadata": {},
          "output_type": "display_data"
        },
        {
          "data": {
            "application/vnd.jupyter.widget-view+json": {
              "model_id": "252fc4ecc275408f93fbdbf28b4d9f8e",
              "version_major": 2,
              "version_minor": 0
            },
            "text/plain": [
              "  0%|          | 0/4 [00:00<?, ?it/s]"
            ]
          },
          "metadata": {},
          "output_type": "display_data"
        },
        {
          "data": {
            "application/vnd.jupyter.widget-view+json": {
              "model_id": "d32ead17280d4e5681f1063cd661b3ea",
              "version_major": 2,
              "version_minor": 0
            },
            "text/plain": [
              "  0%|          | 0/4 [00:00<?, ?it/s]"
            ]
          },
          "metadata": {},
          "output_type": "display_data"
        },
        {
          "data": {
            "application/vnd.jupyter.widget-view+json": {
              "model_id": "97b5ad42e87e4ea0ba1293c967220b7b",
              "version_major": 2,
              "version_minor": 0
            },
            "text/plain": [
              "  0%|          | 0/4 [00:00<?, ?it/s]"
            ]
          },
          "metadata": {},
          "output_type": "display_data"
        },
        {
          "data": {
            "application/vnd.jupyter.widget-view+json": {
              "model_id": "f7c4a310a77b482e829f36258da12174",
              "version_major": 2,
              "version_minor": 0
            },
            "text/plain": [
              "  0%|          | 0/4 [00:00<?, ?it/s]"
            ]
          },
          "metadata": {},
          "output_type": "display_data"
        },
        {
          "name": "stdout",
          "output_type": "stream",
          "text": [
            "AttentionLSTM Training\n"
          ]
        },
        {
          "data": {
            "application/vnd.jupyter.widget-view+json": {
              "model_id": "e5db978d0ee349ae88fb4d56cd78618d",
              "version_major": 2,
              "version_minor": 0
            },
            "text/plain": [
              "  0%|          | 0/4 [00:00<?, ?it/s]"
            ]
          },
          "metadata": {},
          "output_type": "display_data"
        },
        {
          "data": {
            "application/vnd.jupyter.widget-view+json": {
              "model_id": "8150638225704b1883fe68338490152c",
              "version_major": 2,
              "version_minor": 0
            },
            "text/plain": [
              "  0%|          | 0/4 [00:00<?, ?it/s]"
            ]
          },
          "metadata": {},
          "output_type": "display_data"
        },
        {
          "data": {
            "application/vnd.jupyter.widget-view+json": {
              "model_id": "b08263696ddf468186adb4c4bf5bbcc4",
              "version_major": 2,
              "version_minor": 0
            },
            "text/plain": [
              "  0%|          | 0/4 [00:00<?, ?it/s]"
            ]
          },
          "metadata": {},
          "output_type": "display_data"
        },
        {
          "data": {
            "application/vnd.jupyter.widget-view+json": {
              "model_id": "416402edffa741dfaea65217dd624255",
              "version_major": 2,
              "version_minor": 0
            },
            "text/plain": [
              "  0%|          | 0/4 [00:00<?, ?it/s]"
            ]
          },
          "metadata": {},
          "output_type": "display_data"
        },
        {
          "data": {
            "application/vnd.jupyter.widget-view+json": {
              "model_id": "9209b065d79f42058c6d4afba6a9b0ad",
              "version_major": 2,
              "version_minor": 0
            },
            "text/plain": [
              "  0%|          | 0/4 [00:00<?, ?it/s]"
            ]
          },
          "metadata": {},
          "output_type": "display_data"
        },
        {
          "data": {
            "application/vnd.jupyter.widget-view+json": {
              "model_id": "06e28c7f217e4a618d5d896d159d45f2",
              "version_major": 2,
              "version_minor": 0
            },
            "text/plain": [
              "  0%|          | 0/4 [00:00<?, ?it/s]"
            ]
          },
          "metadata": {},
          "output_type": "display_data"
        },
        {
          "data": {
            "application/vnd.jupyter.widget-view+json": {
              "model_id": "c2c4744b51164639a09afd088ff44950",
              "version_major": 2,
              "version_minor": 0
            },
            "text/plain": [
              "  0%|          | 0/4 [00:00<?, ?it/s]"
            ]
          },
          "metadata": {},
          "output_type": "display_data"
        },
        {
          "data": {
            "application/vnd.jupyter.widget-view+json": {
              "model_id": "1f83fb9b79904a9e92c41a5182244252",
              "version_major": 2,
              "version_minor": 0
            },
            "text/plain": [
              "  0%|          | 0/4 [00:00<?, ?it/s]"
            ]
          },
          "metadata": {},
          "output_type": "display_data"
        },
        {
          "data": {
            "application/vnd.jupyter.widget-view+json": {
              "model_id": "964ce123f16b499fa6add49d12d4501c",
              "version_major": 2,
              "version_minor": 0
            },
            "text/plain": [
              "  0%|          | 0/4 [00:00<?, ?it/s]"
            ]
          },
          "metadata": {},
          "output_type": "display_data"
        },
        {
          "data": {
            "application/vnd.jupyter.widget-view+json": {
              "model_id": "235a115fc8844091a82f7c4213bdf08a",
              "version_major": 2,
              "version_minor": 0
            },
            "text/plain": [
              "  0%|          | 0/4 [00:00<?, ?it/s]"
            ]
          },
          "metadata": {},
          "output_type": "display_data"
        }
      ],
      "source": [
        "# Set device\n",
        "device = torch.device(\"cuda\" if torch.cuda.is_available() else \"cpu\")\n",
        "criterion = nn.CrossEntropyLoss()\n",
        "\n",
        "# Set the hyperparameters for all the models     # TODO: analyze these by model\n",
        "input_size = tokenizer.vocab_size\n",
        "embedding_size = 128\n",
        "hidden_size = 256\n",
        "num_layers = 2\n",
        "num_classes = 2\n",
        "dropout = 0.5\n",
        "learning_rate = 0.003\n",
        "num_epochs = 10\n",
        "\n",
        "\n",
        "# init LSTM model\n",
        "model_LSTM = RNN_LSTM(input_size, embedding_size, hidden_size, num_layers, num_classes, dropout).to(device)\n",
        "optimizer_LSTM = optim.Adam(model_LSTM.parameters(), lr=learning_rate)\n",
        "\n",
        "# RNN_LSTM\n",
        "print('RNN_LSTM Training')\n",
        "for epoch in range(num_epochs):\n",
        "    model_LSTM.train()\n",
        "    loop = tqdm(enumerate(train_loader), total=len(train_loader), leave=False)\n",
        "    for batch_idx, (data, targets) in loop:\n",
        "        data = {key: value.to(device) for key, value in data.items()}\n",
        "        targets = targets.to(device)\n",
        "\n",
        "        # forward\n",
        "        scores = model_LSTM(data['input_ids'])\n",
        "        loss = criterion(scores, targets)\n",
        "\n",
        "        # backward\n",
        "        optimizer_LSTM.zero_grad()\n",
        "        loss.backward()\n",
        "\n",
        "        # gradient descent or adam step\n",
        "        optimizer_LSTM.step()\n",
        "\n",
        "        # update progress bar\n",
        "        loop.set_description(f'Epoch [{epoch}/{num_epochs}]')\n",
        "        loop.set_postfix(loss=loss.item())\n",
        "\n",
        "# init BiLSTM model\n",
        "model_BiLSTM = BiLSTM(input_size, embedding_size, hidden_size, num_layers, num_classes, dropout).to(device)\n",
        "optimizer_BiLSTM = optim.Adam(model_BiLSTM.parameters(), lr=learning_rate)\n",
        "\n",
        "# BiLSTM\n",
        "print('BiLSTM Training')\n",
        "for epoch in range(num_epochs):\n",
        "    model_BiLSTM.train()\n",
        "    loop = tqdm(enumerate(train_loader), total=len(train_loader), leave=False)\n",
        "    for batch_idx, (data, targets) in loop:\n",
        "        data = {key: value.to(device) for key, value in data.items()}\n",
        "        targets = targets.to(device)\n",
        "\n",
        "        # forward\n",
        "        scores = model_BiLSTM(data['input_ids'])\n",
        "        loss = criterion(scores, targets)\n",
        "\n",
        "        # backward\n",
        "        optimizer_BiLSTM.zero_grad()\n",
        "        loss.backward()\n",
        "\n",
        "        # gradient descent or adam step\n",
        "        optimizer_BiLSTM.step()\n",
        "\n",
        "        # update progress bar\n",
        "        loop.set_description(f'Epoch [{epoch}/{num_epochs}]')\n",
        "        loop.set_postfix(loss=loss.item())\n",
        "\n",
        "# init AttentionLSTM model\n",
        "model_AttentionLSTM = AttentionLSTM(input_size, embedding_size, hidden_size, num_layers, num_classes, dropout).to(device)\n",
        "optimizer_AttentionLSTM = optim.Adam(model_AttentionLSTM.parameters(), lr=learning_rate)\n",
        "\n",
        "# AttentionLSTM\n",
        "print('AttentionLSTM Training')\n",
        "for epoch in range(num_epochs):\n",
        "    model_AttentionLSTM.train()\n",
        "    loop = tqdm(enumerate(train_loader), total=len(train_loader), leave=False)\n",
        "    for batch_idx, (data, targets) in loop:\n",
        "        data = {key: value.to(device) for key, value in data.items()}\n",
        "        targets = targets.to(device)\n",
        "\n",
        "        # forward\n",
        "        scores = model_AttentionLSTM(data['input_ids'])\n",
        "        loss = criterion(scores, targets)\n",
        "\n",
        "        # backward\n",
        "        optimizer_AttentionLSTM.zero_grad()\n",
        "        loss.backward()\n",
        "\n",
        "        # gradient descent or adam step\n",
        "        optimizer_AttentionLSTM.step()\n",
        "\n",
        "        # update progress bar\n",
        "        loop.set_description(f'Epoch [{epoch}/{num_epochs}]')\n",
        "        loop.set_postfix(loss=loss.item())"
      ]
    },
    {
      "cell_type": "code",
      "execution_count": 10,
      "metadata": {
        "id": "MwLH9vQqwuA9"
      },
      "outputs": [],
      "source": [
        "# Store all the predictions in model_predictions and the actual labels in actual_labels\n",
        "original_comments = []\n",
        "tokens = []\n",
        "model_predictions = []\n",
        "actual_labels = []\n",
        "\n",
        "# Validation\n",
        "def check_accuracy(loader, model):\n",
        "    num_correct = 0\n",
        "    num_samples = 0\n",
        "    predictions = []\n",
        "    targets = []\n",
        "    model.eval()\n",
        "\n",
        "    with torch.no_grad():\n",
        "        for data, target in loader:\n",
        "            data = {key: value.to(device) for key, value in data.items()}\n",
        "            target = target.to(device)\n",
        "\n",
        "            scores = model(data['input_ids'])\n",
        "            _, predicted = scores.max(1)\n",
        "            # Store decoded original comments, model predictions and actual labels \n",
        "            original_comments.extend([tokenizer.decode(data['input_ids'][i]) for i in range(len(data['input_ids']))])\n",
        "            tokens.extend(data['input_ids'])\n",
        "            model_predictions.extend(predicted)\n",
        "            actual_labels.extend(target)\n",
        "            num_correct += (predicted == target).sum()\n",
        "            num_samples += predicted.size(0)\n",
        "\n",
        "            predictions.extend(predicted.tolist())\n",
        "            targets.extend(target.tolist())\n",
        "\n",
        "    # model.train()\n",
        "    accuracy = num_correct/num_samples\n",
        "    return accuracy, predictions, targets\n"
      ]
    },
    {
      "cell_type": "code",
      "execution_count": 11,
      "metadata": {},
      "outputs": [],
      "source": [
        "def results(model):\n",
        "    train_acc, train_preds, train_targets = check_accuracy(train_loader, model)\n",
        "    val_acc, val_preds, val_targets = check_accuracy(val_loader, model)\n",
        "    test_acc, test_preds, test_targets = check_accuracy(test_loader, model)\n",
        "\n",
        "    print(f'Train accuracy: {train_acc}')\n",
        "    print(f'Validation accuracy: {val_acc}')\n",
        "    print(f'Test accuracy: {test_acc}')\n",
        "\n",
        "    train_cm = confusion_matrix(train_targets, train_preds)\n",
        "    val_cm = confusion_matrix(val_targets, val_preds)\n",
        "    test_cm = confusion_matrix(test_targets, test_preds)\n",
        "\n",
        "    print(f'Train Confusion Matrix:\\n{train_cm}')\n",
        "    print(f'Validation Confusion Matrix:\\n{val_cm}')\n",
        "    print(f'Test Confusion Matrix:\\n{test_cm}')\n",
        "\n",
        "    # Classification report\n",
        "    train_report = classification_report(train_targets, train_preds)\n",
        "    val_report = classification_report(val_targets, val_preds)\n",
        "    test_report = classification_report(test_targets, test_preds)\n",
        "\n",
        "    print(f'Train Classification Report:\\n{train_report}')\n",
        "    print(f'Validation Classification Report:\\n{val_report}')\n",
        "    print(f'Test Classification Report:\\n{test_report}')"
      ]
    },
    {
      "cell_type": "code",
      "execution_count": 12,
      "metadata": {},
      "outputs": [
        {
          "name": "stdout",
          "output_type": "stream",
          "text": [
            "Train accuracy: 0.9057376980781555\n",
            "Validation accuracy: 0.7924528121948242\n",
            "Test accuracy: 0.849056601524353\n",
            "Train Confusion Matrix:\n",
            "[[103  11]\n",
            " [ 12 118]]\n",
            "Validation Confusion Matrix:\n",
            "[[24  5]\n",
            " [ 6 18]]\n",
            "Test Confusion Matrix:\n",
            "[[26  6]\n",
            " [ 2 19]]\n",
            "Train Classification Report:\n",
            "              precision    recall  f1-score   support\n",
            "\n",
            "           0       0.90      0.90      0.90       114\n",
            "           1       0.91      0.91      0.91       130\n",
            "\n",
            "    accuracy                           0.91       244\n",
            "   macro avg       0.91      0.91      0.91       244\n",
            "weighted avg       0.91      0.91      0.91       244\n",
            "\n",
            "Validation Classification Report:\n",
            "              precision    recall  f1-score   support\n",
            "\n",
            "           0       0.80      0.83      0.81        29\n",
            "           1       0.78      0.75      0.77        24\n",
            "\n",
            "    accuracy                           0.79        53\n",
            "   macro avg       0.79      0.79      0.79        53\n",
            "weighted avg       0.79      0.79      0.79        53\n",
            "\n",
            "Test Classification Report:\n",
            "              precision    recall  f1-score   support\n",
            "\n",
            "           0       0.93      0.81      0.87        32\n",
            "           1       0.76      0.90      0.83        21\n",
            "\n",
            "    accuracy                           0.85        53\n",
            "   macro avg       0.84      0.86      0.85        53\n",
            "weighted avg       0.86      0.85      0.85        53\n",
            "\n",
            "Train accuracy: 1.0\n",
            "Validation accuracy: 0.8301886916160583\n",
            "Test accuracy: 0.9433962106704712\n",
            "Train Confusion Matrix:\n",
            "[[114   0]\n",
            " [  0 130]]\n",
            "Validation Confusion Matrix:\n",
            "[[24  5]\n",
            " [ 4 20]]\n",
            "Test Confusion Matrix:\n",
            "[[29  3]\n",
            " [ 0 21]]\n",
            "Train Classification Report:\n",
            "              precision    recall  f1-score   support\n",
            "\n",
            "           0       1.00      1.00      1.00       114\n",
            "           1       1.00      1.00      1.00       130\n",
            "\n",
            "    accuracy                           1.00       244\n",
            "   macro avg       1.00      1.00      1.00       244\n",
            "weighted avg       1.00      1.00      1.00       244\n",
            "\n",
            "Validation Classification Report:\n",
            "              precision    recall  f1-score   support\n",
            "\n",
            "           0       0.86      0.83      0.84        29\n",
            "           1       0.80      0.83      0.82        24\n",
            "\n",
            "    accuracy                           0.83        53\n",
            "   macro avg       0.83      0.83      0.83        53\n",
            "weighted avg       0.83      0.83      0.83        53\n",
            "\n",
            "Test Classification Report:\n",
            "              precision    recall  f1-score   support\n",
            "\n",
            "           0       1.00      0.91      0.95        32\n",
            "           1       0.88      1.00      0.93        21\n",
            "\n",
            "    accuracy                           0.94        53\n",
            "   macro avg       0.94      0.95      0.94        53\n",
            "weighted avg       0.95      0.94      0.94        53\n",
            "\n",
            "Train accuracy: 0.9959016442298889\n",
            "Validation accuracy: 0.9245283007621765\n",
            "Test accuracy: 0.9622641801834106\n",
            "Train Confusion Matrix:\n",
            "[[114   0]\n",
            " [  1 129]]\n",
            "Validation Confusion Matrix:\n",
            "[[29  0]\n",
            " [ 4 20]]\n",
            "Test Confusion Matrix:\n",
            "[[32  0]\n",
            " [ 2 19]]\n",
            "Train Classification Report:\n",
            "              precision    recall  f1-score   support\n",
            "\n",
            "           0       0.99      1.00      1.00       114\n",
            "           1       1.00      0.99      1.00       130\n",
            "\n",
            "    accuracy                           1.00       244\n",
            "   macro avg       1.00      1.00      1.00       244\n",
            "weighted avg       1.00      1.00      1.00       244\n",
            "\n",
            "Validation Classification Report:\n",
            "              precision    recall  f1-score   support\n",
            "\n",
            "           0       0.88      1.00      0.94        29\n",
            "           1       1.00      0.83      0.91        24\n",
            "\n",
            "    accuracy                           0.92        53\n",
            "   macro avg       0.94      0.92      0.92        53\n",
            "weighted avg       0.93      0.92      0.92        53\n",
            "\n",
            "Test Classification Report:\n",
            "              precision    recall  f1-score   support\n",
            "\n",
            "           0       0.94      1.00      0.97        32\n",
            "           1       1.00      0.90      0.95        21\n",
            "\n",
            "    accuracy                           0.96        53\n",
            "   macro avg       0.97      0.95      0.96        53\n",
            "weighted avg       0.96      0.96      0.96        53\n",
            "\n"
          ]
        }
      ],
      "source": [
        "results(model_LSTM)\n",
        "results(model_BiLSTM)\n",
        "results(model_AttentionLSTM)"
      ]
    },
    {
      "cell_type": "code",
      "execution_count": 13,
      "metadata": {},
      "outputs": [
        {
          "name": "stdout",
          "output_type": "stream",
          "text": [
            "Comment: [CLS] https : / / www. surveymonkey. com / s / cvhmklt [SEP] [PAD] [PAD] [PAD] [PAD] [PAD] [PAD] [PAD] [PAD] [PAD] [PAD]\n",
            "Tokens: tensor([  101, 16770,  1024,  1013,  1013,  7479,  1012,  5002,  8202, 14839,\n",
            "         1012,  4012,  1013,  1055,  1013, 26226, 14227,  2243,  7096,   102,\n",
            "            0,     0,     0,     0,     0,     0,     0,     0,     0,     0])\n",
            "Prediction: 1\n",
            "Actual: 1\n",
            "\n",
            "Comment: [CLS] please help me go here http : / / www. gofundme. com / littlebrother [SEP] [PAD] [PAD] [PAD] [PAD] [PAD] [PAD] [PAD]\n",
            "Tokens: tensor([  101,  3531,  2393,  2033,  2175,  2182,  8299,  1024,  1013,  1013,\n",
            "         7479,  1012,  2175, 11263,  4859,  4168,  1012,  4012,  1013,  2210,\n",
            "        12618, 12399,   102,     0,     0,     0,     0,     0,     0,     0])\n",
            "Prediction: 1\n",
            "Actual: 1\n",
            "\n",
            "Comment: [CLS] subscribe to itz recaps and above diddle [SEP] [PAD] [PAD] [PAD] [PAD] [PAD] [PAD] [PAD] [PAD] [PAD] [PAD] [PAD] [PAD] [PAD] [PAD] [PAD] [PAD]\n",
            "Tokens: tensor([  101,  4942, 29234,  2000,  2009,  2480, 28667,  9331,  2015,  1998,\n",
            "         2682,  2106, 10362,   102,     0,     0,     0,     0,     0,     0,\n",
            "            0,     0,     0,     0,     0,     0,     0,     0,     0,     0])\n",
            "Prediction: 1\n",
            "Actual: 1\n",
            "\n",
            "Comment: [CLS] how does this video have 2, 127, 322, 484 views if there are only 7 million people on earth? [SEP] [PAD] [PAD] [PAD] [PAD]\n",
            "Tokens: tensor([  101,  2129,  2515,  2023,  2678,  2031,  1016,  1010, 13029,  1010,\n",
            "        23768,  1010,  4466,  2549,  5328,  2065,  2045,  2024,  2069,  1021,\n",
            "         2454,  2111,  2006,  3011,  1029,   102,     0,     0,     0,     0])\n",
            "Prediction: 0\n",
            "Actual: 0\n",
            "\n",
            "Comment: [CLS] hello all 29. 24 % earth population of the world, hope your having a great day : ) [SEP] [PAD] [PAD] [PAD] [PAD] [PAD] [PAD] [PAD] [PAD]\n",
            "Tokens: tensor([ 101, 7592, 2035, 2756, 1012, 2484, 1003, 3011, 2313, 1997, 1996, 2088,\n",
            "        1010, 3246, 2115, 2383, 1037, 2307, 2154, 1024, 1007,  102,    0,    0,\n",
            "           0,    0,    0,    0,    0,    0])\n",
            "Prediction: 0\n",
            "Actual: 0\n",
            "\n"
          ]
        }
      ],
      "source": [
        "# Print the original comments, model predictions and actual labels\n",
        "for i in range(5):\n",
        "    print(f'Comment: {original_comments[i]}')\n",
        "    print(f'Tokens: {tokens[i]}')\n",
        "    print(f'Prediction: {model_predictions[i]}')\n",
        "    print(f'Actual: {actual_labels[i]}')\n",
        "    print('')\n"
      ]
    }
  ],
  "metadata": {
    "accelerator": "GPU",
    "colab": {
      "gpuType": "T4",
      "provenance": []
    },
    "kernelspec": {
      "display_name": "Python 3",
      "name": "python3"
    },
    "language_info": {
      "codemirror_mode": {
        "name": "ipython",
        "version": 3
      },
      "file_extension": ".py",
      "mimetype": "text/x-python",
      "name": "python",
      "nbconvert_exporter": "python",
      "pygments_lexer": "ipython3",
      "version": "3.11.7"
    }
  },
  "nbformat": 4,
  "nbformat_minor": 0
}
