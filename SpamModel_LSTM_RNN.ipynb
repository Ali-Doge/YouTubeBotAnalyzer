{
  "cells": [
    {
      "cell_type": "code",
      "execution_count": 32,
      "metadata": {
        "id": "7bXzjaYEYs-q"
      },
      "outputs": [],
      "source": [
        "import numpy as np\n",
        "import matplotlib.pyplot as plt\n",
        "import torch\n",
        "import torch.nn as nn  # All neural network modules, nn.Linear, nn.Conv2d, BatchNorm, Loss functions\n",
        "import torch.optim as optim  # For all Optimization algorithms, SGD, Adam, etc.\n",
        "import torch.nn.functional as F  # All functions that don't have any parameters\n",
        "from torch.utils.data import (DataLoader,)  # Gives easier dataset managment and creates mini batches\n",
        "#import torchvision  # torch package for vision related things\n",
        "#import torchvision.datasets as datasets  # Has standard datasets we can import in a nice way\n",
        "#import torchvision.transforms as transforms\n",
        "import pandas as pd\n",
        "import random\n",
        "from tqdm.auto import tqdm\n",
        "from transformers import DistilBertTokenizer"
      ]
    },
    {
      "cell_type": "code",
      "execution_count": 33,
      "metadata": {
        "colab": {
          "base_uri": "https://localhost:8080/"
        },
        "id": "M6j6OhmvY3GA",
        "outputId": "ed60e5af-bb9f-454f-eb78-5c646900d221"
      },
      "outputs": [],
      "source": [
        "# Run when executing on Google Colab\n",
        "#from google.colab import drive\n",
        "#drive.mount('/content/drive')\n",
        "\n",
        "#!cp \"/content/drive/MyDrive/Colab Notebooks/Deep Learning/DeepLProject/SpamDataset.zip\" \"./SpamDataset.zip\"\n",
        "#!unzip SpamDataset.zip"
      ]
    },
    {
      "cell_type": "code",
      "execution_count": 34,
      "metadata": {
        "id": "RpnrwlrtZwYH"
      },
      "outputs": [],
      "source": [
        "# Split the downloaded Youtube01-Psy.csv file into train, validation and test sets\n",
        "data = pd.read_csv('SpamDataset/Youtube01-Psy.csv')\n",
        "data = data.sample(frac=1).reset_index(drop=True)  # Shuffle the data\n",
        "train_data = data[:int(0.7*len(data))]\n",
        "val_data = data[int(0.7*len(data)):int(0.85*len(data))]\n",
        "test_data = data[int(0.85*len(data)):]\n",
        "\n",
        "# Tokenize the data using distillbert\n",
        "tokenizer = DistilBertTokenizer.from_pretrained('distilbert-base-uncased')\n",
        "\n",
        "# Turn pd dataframe into a tokenized PyTorch dataset that DataLoader can use via the SpamDataset class\n",
        "class SpamDataset(torch.utils.data.Dataset):\n",
        "    def __init__(self, data):\n",
        "        self.data = data\n",
        "\n",
        "    def __len__(self):\n",
        "        return len(self.data)\n",
        "\n",
        "    def __getitem__(self, idx):\n",
        "        row = self.data.iloc[idx]\n",
        "        comment_tokens = row['CONTENT']\n",
        "        label = row['CLASS']\n",
        "        return comment_tokens, label\n",
        "    \n",
        "    def collate_fn(self, batch):\n",
        "        comments = [row[0] for row in batch]\n",
        "        labels = [row[1] for row in batch]\n",
        "        tokens = tokenizer.batch_encode_plus(comments, truncation=True, padding='max_length', max_length=30, return_tensors='pt')\n",
        "        return tokens, torch.tensor(labels)\n",
        "    \n",
        "train_dataset = SpamDataset(train_data)\n",
        "val_dataset = SpamDataset(val_data)\n",
        "test_dataset = SpamDataset(test_data)\n",
        "\n",
        "\n",
        "# Load Data and collate it\n",
        "batch_size = 64\n",
        "train_loader = DataLoader(train_dataset, batch_size=batch_size, shuffle=True, collate_fn=train_dataset.collate_fn)\n",
        "val_loader = DataLoader(val_dataset, batch_size=batch_size, shuffle=False, collate_fn=val_dataset.collate_fn)\n",
        "test_loader = DataLoader(test_dataset, batch_size=batch_size, shuffle=False, collate_fn=test_dataset.collate_fn)"
      ]
    },
    {
      "cell_type": "code",
      "execution_count": 35,
      "metadata": {},
      "outputs": [
        {
          "name": "stdout",
          "output_type": "stream",
          "text": [
            "({'input_ids': tensor([[  101,  8299,  1024,  ...,  9413, 21397,   102],\n",
            "        [  101,  2065,  1045,  ...,     0,     0,     0],\n",
            "        [  101,  2074,  9361,  ...,     0,     0,     0],\n",
            "        ...,\n",
            "        [  101,  3531,  4942,  ...,  4502, 28646,   102],\n",
            "        [  101,  2027,  2056,  ...,     0,     0,     0],\n",
            "        [  101,  4942,  2026,  ...,     0,     0,     0]]), 'attention_mask': tensor([[1, 1, 1,  ..., 1, 1, 1],\n",
            "        [1, 1, 1,  ..., 0, 0, 0],\n",
            "        [1, 1, 1,  ..., 0, 0, 0],\n",
            "        ...,\n",
            "        [1, 1, 1,  ..., 1, 1, 1],\n",
            "        [1, 1, 1,  ..., 0, 0, 0],\n",
            "        [1, 1, 1,  ..., 0, 0, 0]])}, tensor([1, 1, 0, 0, 0, 1, 0, 0, 0, 1, 0, 0, 1, 0, 1, 0, 1, 0, 1, 0, 1, 1, 1, 0,\n",
            "        1, 1, 1, 0, 1, 1, 1, 1, 1, 1, 0, 1, 1, 0, 0, 0, 1, 0, 1, 0, 0, 0, 0, 0,\n",
            "        1, 0, 0, 0, 1, 0, 0, 0, 0, 0, 1, 0, 0, 1, 0, 1]))\n",
            "[torch.Size([30]), torch.Size([30]), torch.Size([30]), torch.Size([30]), torch.Size([30]), torch.Size([30]), torch.Size([30]), torch.Size([30]), torch.Size([30]), torch.Size([30]), torch.Size([30]), torch.Size([30]), torch.Size([30]), torch.Size([30]), torch.Size([30]), torch.Size([30]), torch.Size([30]), torch.Size([30]), torch.Size([30]), torch.Size([30]), torch.Size([30]), torch.Size([30]), torch.Size([30]), torch.Size([30]), torch.Size([30]), torch.Size([30]), torch.Size([30]), torch.Size([30]), torch.Size([30]), torch.Size([30]), torch.Size([30]), torch.Size([30]), torch.Size([30]), torch.Size([30]), torch.Size([30]), torch.Size([30]), torch.Size([30]), torch.Size([30]), torch.Size([30]), torch.Size([30]), torch.Size([30]), torch.Size([30]), torch.Size([30]), torch.Size([30]), torch.Size([30]), torch.Size([30]), torch.Size([30]), torch.Size([30]), torch.Size([30]), torch.Size([30]), torch.Size([30]), torch.Size([30]), torch.Size([30]), torch.Size([30]), torch.Size([30]), torch.Size([30]), torch.Size([30]), torch.Size([30]), torch.Size([30]), torch.Size([30]), torch.Size([30]), torch.Size([30]), torch.Size([30]), torch.Size([30])]\n"
          ]
        }
      ],
      "source": [
        "# Print a random sample from the train_loader to confirm correct loading and tokenization\n",
        "sample = next(iter(train_loader))\n",
        "print(sample)\n",
        "print([samples.size() for samples in sample[0]['input_ids']])\n"
      ]
    },
    {
      "cell_type": "code",
      "execution_count": 36,
      "metadata": {
        "id": "8jRs7uiloJ61"
      },
      "outputs": [],
      "source": [
        "# Recurrent neural network with LSTM (many-to-one) for sequence classification to produce a binary output\n",
        "## The network includes an Embedding layer, an LSTM layer and a Linear layer\n",
        "class RNN_LSTM(nn.Module):\n",
        "    def __init__(self, input_size, embedding_size, hidden_size, num_layers, num_classes, dropout):\n",
        "        super(RNN_LSTM, self).__init__()\n",
        "        self.hidden_size = hidden_size\n",
        "        self.num_layers = num_layers\n",
        "        self.embedding = nn.Embedding(input_size, embedding_size)\n",
        "        self.lstm = nn.LSTM(embedding_size, hidden_size, num_layers, batch_first=True, dropout=dropout)\n",
        "        self.fc = nn.Linear(hidden_size, num_classes)\n",
        "        self.dropout = nn.Dropout(dropout)\n",
        "\n",
        "    def forward(self, x):\n",
        "        # x: (batch_size, max_seq_length)\n",
        "        embedding = self.dropout(self.embedding(x))\n",
        "        # embedding shape: (batch_size, max_seq_length, embedding_size)\n",
        "        output, (h_n, c_n) = self.lstm(embedding)\n",
        "        # output shape: (batch_size, max_seq_length, hidden_size)\n",
        "        # h_n shape: (num_layers, batch_size, hidden_size)\n",
        "        out = self.fc(h_n[-1, :, :])\n",
        "        # out shape: (batch_size, num_classes)\n",
        "        return out"
      ]
    },
    {
      "cell_type": "code",
      "execution_count": 37,
      "metadata": {
        "colab": {
          "base_uri": "https://localhost:8080/",
          "height": 211
        },
        "id": "DeAjrczCwO91",
        "outputId": "afb29aa9-cca9-438e-a7da-42ec64d30b80"
      },
      "outputs": [
        {
          "name": "stdout",
          "output_type": "stream",
          "text": [
            "RNN_LSTM Training\n"
          ]
        },
        {
          "data": {
            "application/vnd.jupyter.widget-view+json": {
              "model_id": "b829c8f4683e400f93a7fa8240dcfffa",
              "version_major": 2,
              "version_minor": 0
            },
            "text/plain": [
              "  0%|          | 0/4 [00:00<?, ?it/s]"
            ]
          },
          "metadata": {},
          "output_type": "display_data"
        },
        {
          "data": {
            "application/vnd.jupyter.widget-view+json": {
              "model_id": "22e213a478c0498f92de5eedbf35fd8b",
              "version_major": 2,
              "version_minor": 0
            },
            "text/plain": [
              "  0%|          | 0/4 [00:00<?, ?it/s]"
            ]
          },
          "metadata": {},
          "output_type": "display_data"
        },
        {
          "data": {
            "application/vnd.jupyter.widget-view+json": {
              "model_id": "fa42d9b4b25b43fba9f4a0264c7835c5",
              "version_major": 2,
              "version_minor": 0
            },
            "text/plain": [
              "  0%|          | 0/4 [00:00<?, ?it/s]"
            ]
          },
          "metadata": {},
          "output_type": "display_data"
        },
        {
          "data": {
            "application/vnd.jupyter.widget-view+json": {
              "model_id": "71ebc29c017f4dbca7d3402ea42292b3",
              "version_major": 2,
              "version_minor": 0
            },
            "text/plain": [
              "  0%|          | 0/4 [00:00<?, ?it/s]"
            ]
          },
          "metadata": {},
          "output_type": "display_data"
        },
        {
          "data": {
            "application/vnd.jupyter.widget-view+json": {
              "model_id": "5b544d484cce499a8c29cafc0f8c17ea",
              "version_major": 2,
              "version_minor": 0
            },
            "text/plain": [
              "  0%|          | 0/4 [00:00<?, ?it/s]"
            ]
          },
          "metadata": {},
          "output_type": "display_data"
        }
      ],
      "source": [
        "# Set device\n",
        "device = torch.device(\"cuda\" if torch.cuda.is_available() else \"cpu\")\n",
        "\n",
        "# Set the hyperparameters for the LSTM model\n",
        "input_size = tokenizer.vocab_size\n",
        "embedding_size = 128\n",
        "hidden_size = 256\n",
        "num_layers = 2\n",
        "num_classes = 2\n",
        "dropout = 0.5\n",
        "learning_rate = 0.001\n",
        "num_epochs = 5\n",
        "\n",
        "\n",
        "# init model\n",
        "model_LSTM = RNN_LSTM(input_size, embedding_size, hidden_size, num_layers, num_classes, dropout).to(device)\n",
        "criterion = nn.CrossEntropyLoss()\n",
        "optimizer_LSTM = optim.Adam(model_LSTM.parameters(), lr=learning_rate)\n",
        "\n",
        "# RNN_LSTM\n",
        "print('RNN_LSTM Training')\n",
        "for epoch in range(num_epochs):\n",
        "    model_LSTM.train()\n",
        "    loop = tqdm(enumerate(train_loader), total=len(train_loader), leave=False)\n",
        "    for batch_idx, (data, targets) in loop:\n",
        "        data = {key: value.to(device) for key, value in data.items()}\n",
        "        targets = targets.to(device)\n",
        "\n",
        "        # forward\n",
        "        scores = model_LSTM(data['input_ids'])\n",
        "        loss = criterion(scores, targets)\n",
        "\n",
        "        # backward\n",
        "        optimizer_LSTM.zero_grad()\n",
        "        loss.backward()\n",
        "\n",
        "        # gradient descent or adam step\n",
        "        optimizer_LSTM.step()\n",
        "\n",
        "        # update progress bar\n",
        "        loop.set_description(f'Epoch [{epoch}/{num_epochs}]')\n",
        "        loop.set_postfix(loss=loss.item())"
      ]
    },
    {
      "cell_type": "code",
      "execution_count": 38,
      "metadata": {
        "id": "MwLH9vQqwuA9"
      },
      "outputs": [],
      "source": [
        "# Store all the predictions in model_predictions and the actual labels in actual_labels\n",
        "original_comments = []\n",
        "tokens = []\n",
        "model_predictions = []\n",
        "actual_labels = []\n",
        "\n",
        "# Validation\n",
        "def check_accuracy(loader, model):\n",
        "    num_correct = 0\n",
        "    num_samples = 0\n",
        "    model.eval()\n",
        "\n",
        "    with torch.no_grad():\n",
        "        for data, targets in loader:\n",
        "            data = {key: value.to(device) for key, value in data.items()}\n",
        "            targets = targets.to(device)\n",
        "\n",
        "            scores = model(data['input_ids'])\n",
        "            _, predictions = scores.max(1)\n",
        "            # Store decoded original comments, model predictions and actual labels \n",
        "            original_comments.extend([tokenizer.decode(data['input_ids'][i]) for i in range(len(data['input_ids']))])\n",
        "            tokens.extend(data['input_ids'])\n",
        "            model_predictions.extend(predictions)\n",
        "            actual_labels.extend(targets)\n",
        "            num_correct += (predictions == targets).sum()\n",
        "            num_samples += predictions.size(0)\n",
        "\n",
        "    model.train()\n",
        "    return num_correct/num_samples\n"
      ]
    },
    {
      "cell_type": "code",
      "execution_count": 39,
      "metadata": {},
      "outputs": [
        {
          "name": "stdout",
          "output_type": "stream",
          "text": [
            "Train accuracy: 0.6516393423080444\n",
            "Validation accuracy: 0.5849056839942932\n",
            "Test accuracy: 0.6792452931404114\n",
            "Comment: [CLS] can we reach 3 billion views by december 2014? [SEP] [PAD] [PAD] [PAD] [PAD] [PAD] [PAD] [PAD] [PAD] [PAD] [PAD] [PAD] [PAD] [PAD] [PAD] [PAD] [PAD] [PAD] [PAD]\n",
            "Tokens: tensor([ 101, 2064, 2057, 3362, 1017, 4551, 5328, 2011, 2285, 2297, 1029,  102,\n",
            "           0,    0,    0,    0,    0,    0,    0,    0,    0,    0,    0,    0,\n",
            "           0,    0,    0,    0,    0,    0])\n",
            "Prediction: 0\n",
            "Actual: 0\n",
            "\n",
            "Comment: [CLS] follow 4 follow @ vaahidmustafic like 4 like [SEP] [PAD] [PAD] [PAD] [PAD] [PAD] [PAD] [PAD] [PAD] [PAD] [PAD] [PAD] [PAD] [PAD] [PAD]\n",
            "Tokens: tensor([  101,  3582,  1018,  3582,  1030, 12436,  4430,  3593,  7606,  2696,\n",
            "         8873,  2278,  2066,  1018,  2066,   102,     0,     0,     0,     0,\n",
            "            0,     0,     0,     0,     0,     0,     0,     0,     0,     0])\n",
            "Prediction: 0\n",
            "Actual: 1\n",
            "\n",
            "Comment: [CLS] lol [SEP] [PAD] [PAD] [PAD] [PAD] [PAD] [PAD] [PAD] [PAD] [PAD] [PAD] [PAD] [PAD] [PAD] [PAD] [PAD] [PAD] [PAD] [PAD] [PAD] [PAD] [PAD] [PAD] [PAD] [PAD] [PAD] [PAD]\n",
            "Tokens: tensor([ 101, 8840, 2140,  102,    0,    0,    0,    0,    0,    0,    0,    0,\n",
            "           0,    0,    0,    0,    0,    0,    0,    0,    0,    0,    0,    0,\n",
            "           0,    0,    0,    0,    0,    0])\n",
            "Prediction: 0\n",
            "Actual: 0\n",
            "\n",
            "Comment: [CLS] please like : d https : / / premium. easypromosapp. com / voteme / 19924 / 616375350 [SEP]\n",
            "Tokens: tensor([  101,  3531,  2066,  1024,  1040, 16770,  1024,  1013,  1013, 12882,\n",
            "         1012,  3733, 21572, 15530, 29098,  1012,  4012,  1013,  3789,  4168,\n",
            "         1013,  2826,  2549,  1013,  6079,  2575, 24434, 22275, 12376,   102])\n",
            "Prediction: 1\n",
            "Actual: 1\n",
            "\n",
            "Comment: [CLS] i am now going to voyage to the first comment... tell my family i loved them. [UNK] [SEP] [PAD] [PAD] [PAD] [PAD] [PAD] [PAD] [PAD]\n",
            "Tokens: tensor([ 101, 1045, 2572, 2085, 2183, 2000, 8774, 2000, 1996, 2034, 7615, 1012,\n",
            "        1012, 1012, 2425, 2026, 2155, 1045, 3866, 2068, 1012,  100,  102,    0,\n",
            "           0,    0,    0,    0,    0,    0])\n",
            "Prediction: 0\n",
            "Actual: 0\n",
            "\n"
          ]
        }
      ],
      "source": [
        "# Check accuracy on training & validation to see how good our model\n",
        "train_acc = check_accuracy(train_loader, model_LSTM)\n",
        "val_acc = check_accuracy(val_loader, model_LSTM)\n",
        "print(f'Train accuracy: {train_acc}')\n",
        "print(f'Validation accuracy: {val_acc}')\n",
        "print(f'Test accuracy: {check_accuracy(test_loader, model_LSTM)}')\n",
        "\n",
        "# Print the original comments, model predictions and actual labels\n",
        "for i in range(5):\n",
        "    print(f'Comment: {original_comments[i]}')\n",
        "    print(f'Tokens: {tokens[i]}')\n",
        "    print(f'Prediction: {model_predictions[i]}')\n",
        "    print(f'Actual: {actual_labels[i]}')\n",
        "    print('')\n"
      ]
    },
    {
      "cell_type": "code",
      "execution_count": null,
      "metadata": {},
      "outputs": [],
      "source": []
    }
  ],
  "metadata": {
    "accelerator": "GPU",
    "colab": {
      "gpuType": "T4",
      "provenance": []
    },
    "kernelspec": {
      "display_name": "Python 3",
      "name": "python3"
    },
    "language_info": {
      "codemirror_mode": {
        "name": "ipython",
        "version": 3
      },
      "file_extension": ".py",
      "mimetype": "text/x-python",
      "name": "python",
      "nbconvert_exporter": "python",
      "pygments_lexer": "ipython3",
      "version": "3.11.7"
    }
  },
  "nbformat": 4,
  "nbformat_minor": 0
}
