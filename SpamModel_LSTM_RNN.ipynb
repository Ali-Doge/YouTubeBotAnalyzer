{
  "cells": [
    {
      "cell_type": "code",
      "execution_count": 10,
      "metadata": {
        "id": "7bXzjaYEYs-q"
      },
      "outputs": [],
      "source": [
        "import numpy as np\n",
        "import matplotlib.pyplot as plt\n",
        "import torch\n",
        "import torch.nn as nn  # All neural network modules, nn.Linear, nn.Conv2d, BatchNorm, Loss functions\n",
        "import torch.optim as optim  # For all Optimization algorithms, SGD, Adam, etc.\n",
        "import torch.nn.functional as F  # All functions that don't have any parameters\n",
        "from torch.utils.data import (DataLoader,)  # Gives easier dataset managment and creates mini batches\n",
        "#import torchvision  # torch package for vision related things\n",
        "#import torchvision.datasets as datasets  # Has standard datasets we can import in a nice way\n",
        "#import torchvision.transforms as transforms\n",
        "import pandas as pd\n",
        "from tqdm.auto import tqdm\n"
      ]
    },
    {
      "cell_type": "code",
      "execution_count": 11,
      "metadata": {
        "colab": {
          "base_uri": "https://localhost:8080/"
        },
        "id": "M6j6OhmvY3GA",
        "outputId": "ed60e5af-bb9f-454f-eb78-5c646900d221"
      },
      "outputs": [],
      "source": [
        "# Run when executing on Google Colab\n",
        "#from google.colab import drive\n",
        "#drive.mount('/content/drive')\n",
        "\n",
        "#!cp \"/content/drive/MyDrive/Colab Notebooks/Deep Learning/DeepLProject/SpamDataset.zip\" \"./SpamDataset.zip\"\n",
        "#!unzip SpamDataset.zip"
      ]
    },
    {
      "cell_type": "code",
      "execution_count": 12,
      "metadata": {
        "id": "RpnrwlrtZwYH"
      },
      "outputs": [],
      "source": [
        "# Split the downloaded Youtube01-Psy.csv file into train, validation and test sets\n",
        "data = pd.read_csv('SpamDataset/Youtube01-Psy.csv')\n",
        "data = data.sample(frac=1).reset_index(drop=True)  # Shuffle the data\n",
        "train_data = data[:int(0.7*len(data))]\n",
        "val_data = data[int(0.7*len(data)):int(0.85*len(data))]\n",
        "test_data = data[int(0.85*len(data)):]\n",
        "\n",
        "# Turn pd dataframe into PyTorch dataset that DataLoader can use\n",
        "class SpamDataset(torch.utils.data.Dataset):\n",
        "    def __init__(self, data):\n",
        "        self.data = data\n",
        "\n",
        "    def __len__(self):\n",
        "        return len(self.data)\n",
        "\n",
        "    def __getitem__(self, idx):\n",
        "        row = self.data.iloc[idx]\n",
        "        text = row['CONTENT']\n",
        "        label = row['CLASS']\n",
        "        return text, label\n",
        "\n",
        "train_dataset = SpamDataset(train_data)\n",
        "val_dataset = SpamDataset(val_data)\n",
        "test_dataset = SpamDataset(test_data)\n",
        "\n",
        "# Load Data\n",
        "batch_size = 64\n",
        "train_loader = DataLoader(dataset=train_dataset, batch_size=batch_size, shuffle=True)\n",
        "val_loader = DataLoader(dataset=val_dataset, batch_size=batch_size, shuffle=True)\n",
        "test_loader = DataLoader(dataset=test_dataset, batch_size=batch_size, shuffle=True)"
      ]
    },
    {
      "cell_type": "code",
      "execution_count": 13,
      "metadata": {
        "id": "8jRs7uiloJ61"
      },
      "outputs": [],
      "source": [
        "# Recurrent neural network with LSTM (many-to-one)\n",
        "\n",
        "# Compared the model above and fill the following missings\n",
        "class RNN_LSTM(nn.Module):\n",
        "    def __init__(self, input_size, hidden_size, num_layers, num_classes):\n",
        "        super(RNN_LSTM, self).__init__()\n",
        "        self.hidden_size = hidden_size\n",
        "        self.num_layers = num_layers\n",
        "        self.lstm = nn.LSTM(input_size, hidden_size, num_layers, batch_first=True)   # (1pt)TODO: Define LSTM layer\n",
        "        self.fc = nn.Linear(hidden_size * sequence_length, num_classes)     # (1pt)TODO: Define fc layer\n",
        "\n",
        "    def forward(self, x):\n",
        "        # Set initial hidden and cell states\n",
        "        h0 = torch.zeros(self.num_layers, x.size(0), self.hidden_size).to(device)\n",
        "        c0 = torch.zeros(self.num_layers, x.size(0), self.hidden_size).to(device)\n",
        "\n",
        "        # Forward propagate LSTM\n",
        "        out, _ = self.lstm(\n",
        "            x, (h0, c0)\n",
        "        )  # out: tensor of shape (batch_size, seq_length, hidden_size)\n",
        "        #out = out[:, -1, :] # (1pt)TODO: Reshape the output\n",
        "        out = out.reshape(out.shape[0], -1)\n",
        "\n",
        "        # Decode the hidden state of the last time step\n",
        "        out = self.fc(out) # (1pt)TODO: Use fc layer above\n",
        "        return out"
      ]
    },
    {
      "cell_type": "code",
      "execution_count": 14,
      "metadata": {
        "colab": {
          "base_uri": "https://localhost:8080/",
          "height": 211
        },
        "id": "DeAjrczCwO91",
        "outputId": "afb29aa9-cca9-438e-a7da-42ec64d30b80"
      },
      "outputs": [],
      "source": [
        "# Set device\n",
        "device = torch.device(\"cuda\" if torch.cuda.is_available() else \"cpu\")\n",
        "\n",
        "# Hyperparameters\n",
        "input_size = 28\n",
        "hidden_size = 256\n",
        "num_layers = 3\n",
        "num_classes = 10\n",
        "sequence_length = 28\n",
        "learning_rate = 0.005\n",
        "batch_size = 64\n",
        "num_epochs = 3\n",
        "\n",
        "# Load Data\n",
        "train_loader = DataLoader(dataset=train_dataset, batch_size=batch_size, shuffle=True)\n",
        "test_loader = DataLoader(dataset=test_dataset, batch_size=batch_size, shuffle=True)\n",
        "\n",
        "# init model\n",
        "model_LSTM = RNN_LSTM(input_size, hidden_size, num_layers, num_classes).to(device)\n"
      ]
    },
    {
      "cell_type": "code",
      "execution_count": null,
      "metadata": {
        "id": "MwLH9vQqwuA9"
      },
      "outputs": [],
      "source": []
    }
  ],
  "metadata": {
    "accelerator": "GPU",
    "colab": {
      "gpuType": "T4",
      "provenance": []
    },
    "kernelspec": {
      "display_name": "Python 3",
      "name": "python3"
    },
    "language_info": {
      "codemirror_mode": {
        "name": "ipython",
        "version": 3
      },
      "file_extension": ".py",
      "mimetype": "text/x-python",
      "name": "python",
      "nbconvert_exporter": "python",
      "pygments_lexer": "ipython3",
      "version": "3.11.7"
    }
  },
  "nbformat": 4,
  "nbformat_minor": 0
}
